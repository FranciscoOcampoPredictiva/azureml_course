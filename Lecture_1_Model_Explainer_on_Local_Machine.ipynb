{
  "nbformat": 4,
  "nbformat_minor": 0,
  "metadata": {
    "colab": {
      "provenance": [],
      "toc_visible": true,
      "include_colab_link": true
    },
    "kernelspec": {
      "name": "python3",
      "display_name": "Python 3"
    },
    "language_info": {
      "name": "python"
    }
  },
  "cells": [
    {
      "cell_type": "markdown",
      "metadata": {
        "id": "view-in-github",
        "colab_type": "text"
      },
      "source": [
        "<a href=\"https://colab.research.google.com/github/FranciscoOcampoPredictiva/azureml_course/blob/main/Lecture_1_Model_Explainer_on_Local_Machine.ipynb\" target=\"_parent\"><img src=\"https://colab.research.google.com/assets/colab-badge.svg\" alt=\"Open In Colab\"/></a>"
      ]
    },
    {
      "cell_type": "markdown",
      "source": [
        "# Step 1 - Installation an setup"
      ],
      "metadata": {
        "id": "eBhqOPoxFPZW"
      }
    },
    {
      "cell_type": "code",
      "source": [
        "# Install azureml interpret package\n",
        "! pip install -q azureml-interpret"
      ],
      "metadata": {
        "id": "4jAlEEQnFmeA",
        "outputId": "3bf7a553-db7a-4b22-dc24-1b71d0ee79a5",
        "colab": {
          "base_uri": "https://localhost:8080/"
        }
      },
      "execution_count": 1,
      "outputs": [
        {
          "output_type": "stream",
          "name": "stdout",
          "text": [
            "\u001b[?25l     \u001b[90m━━━━━━━━━━━━━━━━━━━━━━━━━━━━━━━━━━━━━━━━\u001b[0m \u001b[32m0.0/52.1 kB\u001b[0m \u001b[31m?\u001b[0m eta \u001b[36m-:--:--\u001b[0m\r\u001b[2K     \u001b[90m━━━━━━━━━━━━━━━━━━━━━━━━━━━━━━━━━━━━━━━━\u001b[0m \u001b[32m52.1/52.1 kB\u001b[0m \u001b[31m2.4 MB/s\u001b[0m eta \u001b[36m0:00:00\u001b[0m\n",
            "\u001b[2K     \u001b[90m━━━━━━━━━━━━━━━━━━━━━━━━━━━━━━━━━━━━━━━\u001b[0m \u001b[32m130.3/130.3 kB\u001b[0m \u001b[31m6.2 MB/s\u001b[0m eta \u001b[36m0:00:00\u001b[0m\n",
            "\u001b[2K     \u001b[90m━━━━━━━━━━━━━━━━━━━━━━━━━━━━━━━━━━━━━━━━\u001b[0m \u001b[32m3.4/3.4 MB\u001b[0m \u001b[31m60.5 MB/s\u001b[0m eta \u001b[36m0:00:00\u001b[0m\n",
            "\u001b[2K     \u001b[90m━━━━━━━━━━━━━━━━━━━━━━━━━━━━━━━━━━━━━━\u001b[0m \u001b[32m356.2/356.2 kB\u001b[0m \u001b[31m37.7 MB/s\u001b[0m eta \u001b[36m0:00:00\u001b[0m\n",
            "\u001b[?25h  Preparing metadata (setup.py) ... \u001b[?25l\u001b[?25hdone\n",
            "\u001b[2K     \u001b[90m━━━━━━━━━━━━━━━━━━━━━━━━━━━━━━━━━━━━━━━━\u001b[0m \u001b[32m3.3/3.3 MB\u001b[0m \u001b[31m110.6 MB/s\u001b[0m eta \u001b[36m0:00:00\u001b[0m\n",
            "\u001b[2K     \u001b[90m━━━━━━━━━━━━━━━━━━━━━━━━━━━━━━━━━━━━━━━━\u001b[0m \u001b[32m16.8/16.8 MB\u001b[0m \u001b[31m62.6 MB/s\u001b[0m eta \u001b[36m0:00:00\u001b[0m\n",
            "\u001b[2K     \u001b[90m━━━━━━━━━━━━━━━━━━━━━━━━━━━━━━━━━━━━━━━━\u001b[0m \u001b[32m47.9/47.9 kB\u001b[0m \u001b[31m5.8 MB/s\u001b[0m eta \u001b[36m0:00:00\u001b[0m\n",
            "\u001b[2K     \u001b[90m━━━━━━━━━━━━━━━━━━━━━━━━━━━━━━━━━━━━━━━━\u001b[0m \u001b[32m9.1/9.1 MB\u001b[0m \u001b[31m62.1 MB/s\u001b[0m eta \u001b[36m0:00:00\u001b[0m\n",
            "\u001b[2K     \u001b[90m━━━━━━━━━━━━━━━━━━━━━━━━━━━━━━━━━━━━━━━━\u001b[0m \u001b[32m90.0/90.0 kB\u001b[0m \u001b[31m12.7 MB/s\u001b[0m eta \u001b[36m0:00:00\u001b[0m\n",
            "\u001b[2K     \u001b[90m━━━━━━━━━━━━━━━━━━━━━━━━━━━━━━━━━━━━━━━━\u001b[0m \u001b[32m61.1/61.1 kB\u001b[0m \u001b[31m8.4 MB/s\u001b[0m eta \u001b[36m0:00:00\u001b[0m\n",
            "\u001b[2K     \u001b[90m━━━━━━━━━━━━━━━━━━━━━━━━━━━━━━━━━━━━━━\u001b[0m \u001b[32m174.5/174.5 kB\u001b[0m \u001b[31m23.4 MB/s\u001b[0m eta \u001b[36m0:00:00\u001b[0m\n",
            "\u001b[2K     \u001b[90m━━━━━━━━━━━━━━━━━━━━━━━━━━━━━━━━━━━━━━━━\u001b[0m \u001b[32m86.8/86.8 kB\u001b[0m \u001b[31m11.4 MB/s\u001b[0m eta \u001b[36m0:00:00\u001b[0m\n",
            "\u001b[2K     \u001b[90m━━━━━━━━━━━━━━━━━━━━━━━━━━━━━━━━━━━━━━\u001b[0m \u001b[32m224.2/224.2 kB\u001b[0m \u001b[31m27.8 MB/s\u001b[0m eta \u001b[36m0:00:00\u001b[0m\n",
            "\u001b[2K     \u001b[90m━━━━━━━━━━━━━━━━━━━━━━━━━━━━━━━━━━━━━━━━\u001b[0m \u001b[32m2.4/2.4 MB\u001b[0m \u001b[31m100.4 MB/s\u001b[0m eta \u001b[36m0:00:00\u001b[0m\n",
            "\u001b[2K     \u001b[90m━━━━━━━━━━━━━━━━━━━━━━━━━━━━━━━━━━━━━━━━\u001b[0m \u001b[32m1.7/1.7 MB\u001b[0m \u001b[31m68.9 MB/s\u001b[0m eta \u001b[36m0:00:00\u001b[0m\n",
            "\u001b[2K     \u001b[90m━━━━━━━━━━━━━━━━━━━━━━━━━━━━━━━━━━━━━━━━\u001b[0m \u001b[32m2.8/2.8 MB\u001b[0m \u001b[31m76.9 MB/s\u001b[0m eta \u001b[36m0:00:00\u001b[0m\n",
            "\u001b[2K     \u001b[90m━━━━━━━━━━━━━━━━━━━━━━━━━━━━━━━━━━━━━━\u001b[0m \u001b[32m780.2/780.2 kB\u001b[0m \u001b[31m53.2 MB/s\u001b[0m eta \u001b[36m0:00:00\u001b[0m\n",
            "\u001b[2K     \u001b[90m━━━━━━━━━━━━━━━━━━━━━━━━━━━━━━━━━━━━━━\u001b[0m \u001b[32m965.9/965.9 kB\u001b[0m \u001b[31m54.9 MB/s\u001b[0m eta \u001b[36m0:00:00\u001b[0m\n",
            "\u001b[2K     \u001b[90m━━━━━━━━━━━━━━━━━━━━━━━━━━━━━━━━━━━━━━\u001b[0m \u001b[32m141.4/141.4 kB\u001b[0m \u001b[31m18.5 MB/s\u001b[0m eta \u001b[36m0:00:00\u001b[0m\n",
            "\u001b[2K     \u001b[90m━━━━━━━━━━━━━━━━━━━━━━━━━━━━━━━━━━━━━━━━\u001b[0m \u001b[32m85.4/85.4 kB\u001b[0m \u001b[31m7.1 MB/s\u001b[0m eta \u001b[36m0:00:00\u001b[0m\n",
            "\u001b[2K     \u001b[90m━━━━━━━━━━━━━━━━━━━━━━━━━━━━━━━━━━━━━━━━\u001b[0m \u001b[32m40.5/40.5 kB\u001b[0m \u001b[31m5.0 MB/s\u001b[0m eta \u001b[36m0:00:00\u001b[0m\n",
            "\u001b[2K     \u001b[90m━━━━━━━━━━━━━━━━━━━━━━━━━━━━━━━━━━━━━━━━\u001b[0m \u001b[32m42.7/42.7 kB\u001b[0m \u001b[31m5.1 MB/s\u001b[0m eta \u001b[36m0:00:00\u001b[0m\n",
            "\u001b[2K     \u001b[90m━━━━━━━━━━━━━━━━━━━━━━━━━━━━━━━━━━━━━━\u001b[0m \u001b[32m148.1/148.1 kB\u001b[0m \u001b[31m13.0 MB/s\u001b[0m eta \u001b[36m0:00:00\u001b[0m\n",
            "\u001b[2K     \u001b[90m━━━━━━━━━━━━━━━━━━━━━━━━━━━━━━━━━━━━━━━━\u001b[0m \u001b[32m55.5/55.5 kB\u001b[0m \u001b[31m7.7 MB/s\u001b[0m eta \u001b[36m0:00:00\u001b[0m\n",
            "\u001b[2K     \u001b[90m━━━━━━━━━━━━━━━━━━━━━━━━━━━━━━━━━━━━━━━━\u001b[0m \u001b[32m59.0/59.0 kB\u001b[0m \u001b[31m7.9 MB/s\u001b[0m eta \u001b[36m0:00:00\u001b[0m\n",
            "\u001b[2K     \u001b[90m━━━━━━━━━━━━━━━━━━━━━━━━━━━━━━━━━━━━━━━━\u001b[0m \u001b[32m34.5/34.5 MB\u001b[0m \u001b[31m17.5 MB/s\u001b[0m eta \u001b[36m0:00:00\u001b[0m\n",
            "\u001b[2K     \u001b[90m━━━━━━━━━━━━━━━━━━━━━━━━━━━━━━━━━━━━━━━━\u001b[0m \u001b[32m41.7/41.7 kB\u001b[0m \u001b[31m3.2 MB/s\u001b[0m eta \u001b[36m0:00:00\u001b[0m\n",
            "\u001b[2K     \u001b[90m━━━━━━━━━━━━━━━━━━━━━━━━━━━━━━━━━━━━━━\u001b[0m \u001b[32m593.7/593.7 kB\u001b[0m \u001b[31m37.3 MB/s\u001b[0m eta \u001b[36m0:00:00\u001b[0m\n",
            "\u001b[2K     \u001b[90m━━━━━━━━━━━━━━━━━━━━━━━━━━━━━━━━━━━━━━\u001b[0m \u001b[32m856.7/856.7 kB\u001b[0m \u001b[31m67.0 MB/s\u001b[0m eta \u001b[36m0:00:00\u001b[0m\n",
            "\u001b[2K     \u001b[90m━━━━━━━━━━━━━━━━━━━━━━━━━━━━━━━━━━━━━━━━\u001b[0m \u001b[32m48.4/48.4 kB\u001b[0m \u001b[31m6.4 MB/s\u001b[0m eta \u001b[36m0:00:00\u001b[0m\n",
            "\u001b[?25h  Building wheel for shap (setup.py) ... \u001b[?25l\u001b[?25hdone\n"
          ]
        }
      ]
    },
    {
      "cell_type": "markdown",
      "source": [
        "# Step 2 - Training the ML model"
      ],
      "metadata": {
        "id": "Ckpc8azvHIeA"
      }
    },
    {
      "cell_type": "code",
      "source": [
        "# Import the pandas\n",
        "import pandas as pd\n",
        "\n",
        "# Read dataset\n",
        "df = pd.read_csv('/content/Churn_Modelling.csv')"
      ],
      "metadata": {
        "id": "2xTdlKZZEbVp"
      },
      "execution_count": 2,
      "outputs": []
    },
    {
      "cell_type": "code",
      "source": [
        "df = df.drop(columns=['RowNumber', 'CustomerId', 'Surname'])"
      ],
      "metadata": {
        "id": "G3_4EThqzTJ6"
      },
      "execution_count": 3,
      "outputs": []
    },
    {
      "cell_type": "code",
      "source": [
        "# Dummy variables\n",
        "df = pd.get_dummies(df, drop_first=True)"
      ],
      "metadata": {
        "id": "Z59x5tC2EqHo"
      },
      "execution_count": 4,
      "outputs": []
    },
    {
      "cell_type": "code",
      "source": [
        "# Define X and Y Variables\n",
        "X = df.drop(columns='Exited')\n",
        "Y = df['Exited']"
      ],
      "metadata": {
        "id": "nVpYgmORfzo5"
      },
      "execution_count": 5,
      "outputs": []
    },
    {
      "cell_type": "code",
      "source": [
        "# Split the X and Y into train and test set\n",
        "from sklearn.model_selection import train_test_split\n",
        "X_train, X_test, Y_train, Y_test = train_test_split(X, Y, test_size = 0.3, random_state = 0, stratify=Y)"
      ],
      "metadata": {
        "id": "5RuOtckzEqr9"
      },
      "execution_count": 6,
      "outputs": []
    },
    {
      "cell_type": "code",
      "source": [
        "# Train the ML model\n",
        "from sklearn.ensemble import RandomForestClassifier\n",
        "classifier = RandomForestClassifier(random_state=0)\n",
        "trained_ml_model = classifier.fit(X_train, Y_train)"
      ],
      "metadata": {
        "id": "KaupHUctjORe"
      },
      "execution_count": 7,
      "outputs": []
    },
    {
      "cell_type": "code",
      "source": [
        "# Predict the results\n",
        "y_pred = classifier.predict(X_test)"
      ],
      "metadata": {
        "id": "wp49HsgmEvQd"
      },
      "execution_count": 8,
      "outputs": []
    },
    {
      "cell_type": "code",
      "source": [
        "# Model evaluation\n",
        "from sklearn.metrics import confusion_matrix\n",
        "cm = confusion_matrix(Y_test, y_pred)\n",
        "score = classifier.score(X_test, Y_test)\n",
        "print(cm)\n",
        "print(score)"
      ],
      "metadata": {
        "colab": {
          "base_uri": "https://localhost:8080/"
        },
        "id": "DZxpSkn5KNK5",
        "outputId": "18877900-0d2a-414b-b491-fc7fc5e62da9"
      },
      "execution_count": 9,
      "outputs": [
        {
          "output_type": "stream",
          "name": "stdout",
          "text": [
            "[[2299   90]\n",
            " [ 341  270]]\n",
            "0.8563333333333333\n"
          ]
        }
      ]
    },
    {
      "cell_type": "markdown",
      "source": [
        "# Step 3 - Model explainers"
      ],
      "metadata": {
        "id": "PqD0wZqZMloV"
      }
    },
    {
      "cell_type": "markdown",
      "source": [
        "## Global explanations"
      ],
      "metadata": {
        "id": "DhHsiBkTXknj"
      }
    },
    {
      "cell_type": "code",
      "source": [
        "from interpret_community.tabular_explainer import TabularExplainer"
      ],
      "metadata": {
        "id": "Q07QUgrqKyaC"
      },
      "execution_count": 10,
      "outputs": []
    },
    {
      "cell_type": "code",
      "source": [
        "# help(TabularExplainer)"
      ],
      "metadata": {
        "id": "X73K66S-MyCS"
      },
      "execution_count": 11,
      "outputs": []
    },
    {
      "cell_type": "code",
      "source": [
        "df.head()"
      ],
      "metadata": {
        "colab": {
          "base_uri": "https://localhost:8080/",
          "height": 270
        },
        "id": "M2toBVELNGRT",
        "outputId": "9ceba693-90ba-4e94-c9dd-d5537561eee1"
      },
      "execution_count": 12,
      "outputs": [
        {
          "output_type": "execute_result",
          "data": {
            "text/plain": [
              "   CreditScore  Age  Tenure    Balance  NumOfProducts  HasCrCard  \\\n",
              "0          619   42       2       0.00              1          1   \n",
              "1          608   41       1   83807.86              1          0   \n",
              "2          502   42       8  159660.80              3          1   \n",
              "3          699   39       1       0.00              2          0   \n",
              "4          850   43       2  125510.82              1          1   \n",
              "\n",
              "   IsActiveMember  EstimatedSalary  Exited  Geography_Germany  \\\n",
              "0               1        101348.88       1                  0   \n",
              "1               1        112542.58       0                  0   \n",
              "2               0        113931.57       1                  0   \n",
              "3               0         93826.63       0                  0   \n",
              "4               1         79084.10       0                  0   \n",
              "\n",
              "   Geography_Spain  Gender_Male  \n",
              "0                0            0  \n",
              "1                1            0  \n",
              "2                0            0  \n",
              "3                0            0  \n",
              "4                1            0  "
            ],
            "text/html": [
              "\n",
              "  <div id=\"df-d7d4274a-6d26-4323-a513-78bd821617e9\">\n",
              "    <div class=\"colab-df-container\">\n",
              "      <div>\n",
              "<style scoped>\n",
              "    .dataframe tbody tr th:only-of-type {\n",
              "        vertical-align: middle;\n",
              "    }\n",
              "\n",
              "    .dataframe tbody tr th {\n",
              "        vertical-align: top;\n",
              "    }\n",
              "\n",
              "    .dataframe thead th {\n",
              "        text-align: right;\n",
              "    }\n",
              "</style>\n",
              "<table border=\"1\" class=\"dataframe\">\n",
              "  <thead>\n",
              "    <tr style=\"text-align: right;\">\n",
              "      <th></th>\n",
              "      <th>CreditScore</th>\n",
              "      <th>Age</th>\n",
              "      <th>Tenure</th>\n",
              "      <th>Balance</th>\n",
              "      <th>NumOfProducts</th>\n",
              "      <th>HasCrCard</th>\n",
              "      <th>IsActiveMember</th>\n",
              "      <th>EstimatedSalary</th>\n",
              "      <th>Exited</th>\n",
              "      <th>Geography_Germany</th>\n",
              "      <th>Geography_Spain</th>\n",
              "      <th>Gender_Male</th>\n",
              "    </tr>\n",
              "  </thead>\n",
              "  <tbody>\n",
              "    <tr>\n",
              "      <th>0</th>\n",
              "      <td>619</td>\n",
              "      <td>42</td>\n",
              "      <td>2</td>\n",
              "      <td>0.00</td>\n",
              "      <td>1</td>\n",
              "      <td>1</td>\n",
              "      <td>1</td>\n",
              "      <td>101348.88</td>\n",
              "      <td>1</td>\n",
              "      <td>0</td>\n",
              "      <td>0</td>\n",
              "      <td>0</td>\n",
              "    </tr>\n",
              "    <tr>\n",
              "      <th>1</th>\n",
              "      <td>608</td>\n",
              "      <td>41</td>\n",
              "      <td>1</td>\n",
              "      <td>83807.86</td>\n",
              "      <td>1</td>\n",
              "      <td>0</td>\n",
              "      <td>1</td>\n",
              "      <td>112542.58</td>\n",
              "      <td>0</td>\n",
              "      <td>0</td>\n",
              "      <td>1</td>\n",
              "      <td>0</td>\n",
              "    </tr>\n",
              "    <tr>\n",
              "      <th>2</th>\n",
              "      <td>502</td>\n",
              "      <td>42</td>\n",
              "      <td>8</td>\n",
              "      <td>159660.80</td>\n",
              "      <td>3</td>\n",
              "      <td>1</td>\n",
              "      <td>0</td>\n",
              "      <td>113931.57</td>\n",
              "      <td>1</td>\n",
              "      <td>0</td>\n",
              "      <td>0</td>\n",
              "      <td>0</td>\n",
              "    </tr>\n",
              "    <tr>\n",
              "      <th>3</th>\n",
              "      <td>699</td>\n",
              "      <td>39</td>\n",
              "      <td>1</td>\n",
              "      <td>0.00</td>\n",
              "      <td>2</td>\n",
              "      <td>0</td>\n",
              "      <td>0</td>\n",
              "      <td>93826.63</td>\n",
              "      <td>0</td>\n",
              "      <td>0</td>\n",
              "      <td>0</td>\n",
              "      <td>0</td>\n",
              "    </tr>\n",
              "    <tr>\n",
              "      <th>4</th>\n",
              "      <td>850</td>\n",
              "      <td>43</td>\n",
              "      <td>2</td>\n",
              "      <td>125510.82</td>\n",
              "      <td>1</td>\n",
              "      <td>1</td>\n",
              "      <td>1</td>\n",
              "      <td>79084.10</td>\n",
              "      <td>0</td>\n",
              "      <td>0</td>\n",
              "      <td>1</td>\n",
              "      <td>0</td>\n",
              "    </tr>\n",
              "  </tbody>\n",
              "</table>\n",
              "</div>\n",
              "      <button class=\"colab-df-convert\" onclick=\"convertToInteractive('df-d7d4274a-6d26-4323-a513-78bd821617e9')\"\n",
              "              title=\"Convert this dataframe to an interactive table.\"\n",
              "              style=\"display:none;\">\n",
              "        \n",
              "  <svg xmlns=\"http://www.w3.org/2000/svg\" height=\"24px\"viewBox=\"0 0 24 24\"\n",
              "       width=\"24px\">\n",
              "    <path d=\"M0 0h24v24H0V0z\" fill=\"none\"/>\n",
              "    <path d=\"M18.56 5.44l.94 2.06.94-2.06 2.06-.94-2.06-.94-.94-2.06-.94 2.06-2.06.94zm-11 1L8.5 8.5l.94-2.06 2.06-.94-2.06-.94L8.5 2.5l-.94 2.06-2.06.94zm10 10l.94 2.06.94-2.06 2.06-.94-2.06-.94-.94-2.06-.94 2.06-2.06.94z\"/><path d=\"M17.41 7.96l-1.37-1.37c-.4-.4-.92-.59-1.43-.59-.52 0-1.04.2-1.43.59L10.3 9.45l-7.72 7.72c-.78.78-.78 2.05 0 2.83L4 21.41c.39.39.9.59 1.41.59.51 0 1.02-.2 1.41-.59l7.78-7.78 2.81-2.81c.8-.78.8-2.07 0-2.86zM5.41 20L4 18.59l7.72-7.72 1.47 1.35L5.41 20z\"/>\n",
              "  </svg>\n",
              "      </button>\n",
              "      \n",
              "  <style>\n",
              "    .colab-df-container {\n",
              "      display:flex;\n",
              "      flex-wrap:wrap;\n",
              "      gap: 12px;\n",
              "    }\n",
              "\n",
              "    .colab-df-convert {\n",
              "      background-color: #E8F0FE;\n",
              "      border: none;\n",
              "      border-radius: 50%;\n",
              "      cursor: pointer;\n",
              "      display: none;\n",
              "      fill: #1967D2;\n",
              "      height: 32px;\n",
              "      padding: 0 0 0 0;\n",
              "      width: 32px;\n",
              "    }\n",
              "\n",
              "    .colab-df-convert:hover {\n",
              "      background-color: #E2EBFA;\n",
              "      box-shadow: 0px 1px 2px rgba(60, 64, 67, 0.3), 0px 1px 3px 1px rgba(60, 64, 67, 0.15);\n",
              "      fill: #174EA6;\n",
              "    }\n",
              "\n",
              "    [theme=dark] .colab-df-convert {\n",
              "      background-color: #3B4455;\n",
              "      fill: #D2E3FC;\n",
              "    }\n",
              "\n",
              "    [theme=dark] .colab-df-convert:hover {\n",
              "      background-color: #434B5C;\n",
              "      box-shadow: 0px 1px 3px 1px rgba(0, 0, 0, 0.15);\n",
              "      filter: drop-shadow(0px 1px 2px rgba(0, 0, 0, 0.3));\n",
              "      fill: #FFFFFF;\n",
              "    }\n",
              "  </style>\n",
              "\n",
              "      <script>\n",
              "        const buttonEl =\n",
              "          document.querySelector('#df-d7d4274a-6d26-4323-a513-78bd821617e9 button.colab-df-convert');\n",
              "        buttonEl.style.display =\n",
              "          google.colab.kernel.accessAllowed ? 'block' : 'none';\n",
              "\n",
              "        async function convertToInteractive(key) {\n",
              "          const element = document.querySelector('#df-d7d4274a-6d26-4323-a513-78bd821617e9');\n",
              "          const dataTable =\n",
              "            await google.colab.kernel.invokeFunction('convertToInteractive',\n",
              "                                                     [key], {});\n",
              "          if (!dataTable) return;\n",
              "\n",
              "          const docLinkHtml = 'Like what you see? Visit the ' +\n",
              "            '<a target=\"_blank\" href=https://colab.research.google.com/notebooks/data_table.ipynb>data table notebook</a>'\n",
              "            + ' to learn more about interactive tables.';\n",
              "          element.innerHTML = '';\n",
              "          dataTable['output_type'] = 'display_data';\n",
              "          await google.colab.output.renderOutput(dataTable, element);\n",
              "          const docLink = document.createElement('div');\n",
              "          docLink.innerHTML = docLinkHtml;\n",
              "          element.appendChild(docLink);\n",
              "        }\n",
              "      </script>\n",
              "    </div>\n",
              "  </div>\n",
              "  "
            ]
          },
          "metadata": {},
          "execution_count": 12
        }
      ]
    },
    {
      "cell_type": "code",
      "source": [
        "# Define variables\n",
        "classes = ['Exited', 'Not Exited']\n",
        "features = list(X.columns)"
      ],
      "metadata": {
        "id": "emxhsMngNH9f"
      },
      "execution_count": 13,
      "outputs": []
    },
    {
      "cell_type": "code",
      "source": [
        "# tabular explainer object\n",
        "\n",
        "tab_explainer = TabularExplainer(model=trained_ml_model,\n",
        "                                 initialization_examples=X_train,\n",
        "                                 features=features,\n",
        "                                 classes=classes)"
      ],
      "metadata": {
        "id": "hY8Anj8oNb8r"
      },
      "execution_count": 14,
      "outputs": []
    },
    {
      "cell_type": "code",
      "source": [
        "# Global explainations\n",
        "global_explaination = tab_explainer.explain_global(X_train)"
      ],
      "metadata": {
        "id": "rBRK-fE6N-c_"
      },
      "execution_count": 15,
      "outputs": []
    },
    {
      "cell_type": "code",
      "source": [
        "# feature importance data\n",
        "global_feature_imp = global_explaination.get_feature_importance_dict()"
      ],
      "metadata": {
        "id": "ELQIR4e6Ohxf"
      },
      "execution_count": 16,
      "outputs": []
    },
    {
      "cell_type": "code",
      "source": [
        "global_feature_imp"
      ],
      "metadata": {
        "colab": {
          "base_uri": "https://localhost:8080/"
        },
        "id": "0vkdBH6sPB5W",
        "outputId": "4e812a22-9b88-4ed1-ea75-92e2c0d2ae12"
      },
      "execution_count": 17,
      "outputs": [
        {
          "output_type": "execute_result",
          "data": {
            "text/plain": [
              "{'Age': 0.11569068889397732,\n",
              " 'NumOfProducts': 0.08005822342620106,\n",
              " 'IsActiveMember': 0.05316461383325616,\n",
              " 'Geography_Germany': 0.03189695697579134,\n",
              " 'Balance': 0.0281066806257185,\n",
              " 'Gender_Male': 0.027968630058755946,\n",
              " 'EstimatedSalary': 0.01950655967810963,\n",
              " 'CreditScore': 0.019100968001856518,\n",
              " 'Tenure': 0.01330174404392769,\n",
              " 'Geography_Spain': 0.0063662267453276165,\n",
              " 'HasCrCard': 0.006194165250576628}"
            ]
          },
          "metadata": {},
          "execution_count": 17
        }
      ]
    },
    {
      "cell_type": "markdown",
      "source": [
        "## Local explanations"
      ],
      "metadata": {
        "id": "KZGSY1X4XpvJ"
      }
    },
    {
      "cell_type": "code",
      "source": [
        "# five observations\n",
        "feature_explain = X_test[0:5]"
      ],
      "metadata": {
        "id": "y9bxxEhkXtXp"
      },
      "execution_count": 18,
      "outputs": []
    },
    {
      "cell_type": "code",
      "source": [
        "feature_explain"
      ],
      "metadata": {
        "colab": {
          "base_uri": "https://localhost:8080/",
          "height": 270
        },
        "id": "Lm1KAu9dX3iV",
        "outputId": "9c9f2a3c-ee19-4c06-cf4a-811b30b30649"
      },
      "execution_count": 19,
      "outputs": [
        {
          "output_type": "execute_result",
          "data": {
            "text/plain": [
              "      CreditScore  Age  Tenure    Balance  NumOfProducts  HasCrCard  \\\n",
              "3714          823   34       3  105057.33              1          1   \n",
              "7308          663   53       6  150200.23              1          0   \n",
              "7156          632   65       6  129472.33              1          1   \n",
              "2572          711   58       9   91285.13              2          1   \n",
              "2711          608   28       9       0.00              2          1   \n",
              "\n",
              "      IsActiveMember  EstimatedSalary  Geography_Germany  Geography_Spain  \\\n",
              "3714               0          9217.92                  0                0   \n",
              "7308               1        151317.27                  0                1   \n",
              "7156               1         85179.48                  1                0   \n",
              "2572               1         26767.85                  0                0   \n",
              "2711               1        125062.02                  0                0   \n",
              "\n",
              "      Gender_Male  \n",
              "3714            1  \n",
              "7308            0  \n",
              "7156            1  \n",
              "2572            1  \n",
              "2711            0  "
            ],
            "text/html": [
              "\n",
              "  <div id=\"df-3cb1d1d7-6906-41fc-a4d7-af2a73611e57\">\n",
              "    <div class=\"colab-df-container\">\n",
              "      <div>\n",
              "<style scoped>\n",
              "    .dataframe tbody tr th:only-of-type {\n",
              "        vertical-align: middle;\n",
              "    }\n",
              "\n",
              "    .dataframe tbody tr th {\n",
              "        vertical-align: top;\n",
              "    }\n",
              "\n",
              "    .dataframe thead th {\n",
              "        text-align: right;\n",
              "    }\n",
              "</style>\n",
              "<table border=\"1\" class=\"dataframe\">\n",
              "  <thead>\n",
              "    <tr style=\"text-align: right;\">\n",
              "      <th></th>\n",
              "      <th>CreditScore</th>\n",
              "      <th>Age</th>\n",
              "      <th>Tenure</th>\n",
              "      <th>Balance</th>\n",
              "      <th>NumOfProducts</th>\n",
              "      <th>HasCrCard</th>\n",
              "      <th>IsActiveMember</th>\n",
              "      <th>EstimatedSalary</th>\n",
              "      <th>Geography_Germany</th>\n",
              "      <th>Geography_Spain</th>\n",
              "      <th>Gender_Male</th>\n",
              "    </tr>\n",
              "  </thead>\n",
              "  <tbody>\n",
              "    <tr>\n",
              "      <th>3714</th>\n",
              "      <td>823</td>\n",
              "      <td>34</td>\n",
              "      <td>3</td>\n",
              "      <td>105057.33</td>\n",
              "      <td>1</td>\n",
              "      <td>1</td>\n",
              "      <td>0</td>\n",
              "      <td>9217.92</td>\n",
              "      <td>0</td>\n",
              "      <td>0</td>\n",
              "      <td>1</td>\n",
              "    </tr>\n",
              "    <tr>\n",
              "      <th>7308</th>\n",
              "      <td>663</td>\n",
              "      <td>53</td>\n",
              "      <td>6</td>\n",
              "      <td>150200.23</td>\n",
              "      <td>1</td>\n",
              "      <td>0</td>\n",
              "      <td>1</td>\n",
              "      <td>151317.27</td>\n",
              "      <td>0</td>\n",
              "      <td>1</td>\n",
              "      <td>0</td>\n",
              "    </tr>\n",
              "    <tr>\n",
              "      <th>7156</th>\n",
              "      <td>632</td>\n",
              "      <td>65</td>\n",
              "      <td>6</td>\n",
              "      <td>129472.33</td>\n",
              "      <td>1</td>\n",
              "      <td>1</td>\n",
              "      <td>1</td>\n",
              "      <td>85179.48</td>\n",
              "      <td>1</td>\n",
              "      <td>0</td>\n",
              "      <td>1</td>\n",
              "    </tr>\n",
              "    <tr>\n",
              "      <th>2572</th>\n",
              "      <td>711</td>\n",
              "      <td>58</td>\n",
              "      <td>9</td>\n",
              "      <td>91285.13</td>\n",
              "      <td>2</td>\n",
              "      <td>1</td>\n",
              "      <td>1</td>\n",
              "      <td>26767.85</td>\n",
              "      <td>0</td>\n",
              "      <td>0</td>\n",
              "      <td>1</td>\n",
              "    </tr>\n",
              "    <tr>\n",
              "      <th>2711</th>\n",
              "      <td>608</td>\n",
              "      <td>28</td>\n",
              "      <td>9</td>\n",
              "      <td>0.00</td>\n",
              "      <td>2</td>\n",
              "      <td>1</td>\n",
              "      <td>1</td>\n",
              "      <td>125062.02</td>\n",
              "      <td>0</td>\n",
              "      <td>0</td>\n",
              "      <td>0</td>\n",
              "    </tr>\n",
              "  </tbody>\n",
              "</table>\n",
              "</div>\n",
              "      <button class=\"colab-df-convert\" onclick=\"convertToInteractive('df-3cb1d1d7-6906-41fc-a4d7-af2a73611e57')\"\n",
              "              title=\"Convert this dataframe to an interactive table.\"\n",
              "              style=\"display:none;\">\n",
              "        \n",
              "  <svg xmlns=\"http://www.w3.org/2000/svg\" height=\"24px\"viewBox=\"0 0 24 24\"\n",
              "       width=\"24px\">\n",
              "    <path d=\"M0 0h24v24H0V0z\" fill=\"none\"/>\n",
              "    <path d=\"M18.56 5.44l.94 2.06.94-2.06 2.06-.94-2.06-.94-.94-2.06-.94 2.06-2.06.94zm-11 1L8.5 8.5l.94-2.06 2.06-.94-2.06-.94L8.5 2.5l-.94 2.06-2.06.94zm10 10l.94 2.06.94-2.06 2.06-.94-2.06-.94-.94-2.06-.94 2.06-2.06.94z\"/><path d=\"M17.41 7.96l-1.37-1.37c-.4-.4-.92-.59-1.43-.59-.52 0-1.04.2-1.43.59L10.3 9.45l-7.72 7.72c-.78.78-.78 2.05 0 2.83L4 21.41c.39.39.9.59 1.41.59.51 0 1.02-.2 1.41-.59l7.78-7.78 2.81-2.81c.8-.78.8-2.07 0-2.86zM5.41 20L4 18.59l7.72-7.72 1.47 1.35L5.41 20z\"/>\n",
              "  </svg>\n",
              "      </button>\n",
              "      \n",
              "  <style>\n",
              "    .colab-df-container {\n",
              "      display:flex;\n",
              "      flex-wrap:wrap;\n",
              "      gap: 12px;\n",
              "    }\n",
              "\n",
              "    .colab-df-convert {\n",
              "      background-color: #E8F0FE;\n",
              "      border: none;\n",
              "      border-radius: 50%;\n",
              "      cursor: pointer;\n",
              "      display: none;\n",
              "      fill: #1967D2;\n",
              "      height: 32px;\n",
              "      padding: 0 0 0 0;\n",
              "      width: 32px;\n",
              "    }\n",
              "\n",
              "    .colab-df-convert:hover {\n",
              "      background-color: #E2EBFA;\n",
              "      box-shadow: 0px 1px 2px rgba(60, 64, 67, 0.3), 0px 1px 3px 1px rgba(60, 64, 67, 0.15);\n",
              "      fill: #174EA6;\n",
              "    }\n",
              "\n",
              "    [theme=dark] .colab-df-convert {\n",
              "      background-color: #3B4455;\n",
              "      fill: #D2E3FC;\n",
              "    }\n",
              "\n",
              "    [theme=dark] .colab-df-convert:hover {\n",
              "      background-color: #434B5C;\n",
              "      box-shadow: 0px 1px 3px 1px rgba(0, 0, 0, 0.15);\n",
              "      filter: drop-shadow(0px 1px 2px rgba(0, 0, 0, 0.3));\n",
              "      fill: #FFFFFF;\n",
              "    }\n",
              "  </style>\n",
              "\n",
              "      <script>\n",
              "        const buttonEl =\n",
              "          document.querySelector('#df-3cb1d1d7-6906-41fc-a4d7-af2a73611e57 button.colab-df-convert');\n",
              "        buttonEl.style.display =\n",
              "          google.colab.kernel.accessAllowed ? 'block' : 'none';\n",
              "\n",
              "        async function convertToInteractive(key) {\n",
              "          const element = document.querySelector('#df-3cb1d1d7-6906-41fc-a4d7-af2a73611e57');\n",
              "          const dataTable =\n",
              "            await google.colab.kernel.invokeFunction('convertToInteractive',\n",
              "                                                     [key], {});\n",
              "          if (!dataTable) return;\n",
              "\n",
              "          const docLinkHtml = 'Like what you see? Visit the ' +\n",
              "            '<a target=\"_blank\" href=https://colab.research.google.com/notebooks/data_table.ipynb>data table notebook</a>'\n",
              "            + ' to learn more about interactive tables.';\n",
              "          element.innerHTML = '';\n",
              "          dataTable['output_type'] = 'display_data';\n",
              "          await google.colab.output.renderOutput(dataTable, element);\n",
              "          const docLink = document.createElement('div');\n",
              "          docLink.innerHTML = docLinkHtml;\n",
              "          element.appendChild(docLink);\n",
              "        }\n",
              "      </script>\n",
              "    </div>\n",
              "  </div>\n",
              "  "
            ]
          },
          "metadata": {},
          "execution_count": 19
        }
      ]
    },
    {
      "cell_type": "code",
      "source": [
        "# Local explanation object\n",
        "local_explanation = tab_explainer.explain_local(feature_explain)"
      ],
      "metadata": {
        "id": "LhAals7LYDoh"
      },
      "execution_count": 20,
      "outputs": []
    },
    {
      "cell_type": "code",
      "source": [
        "# extract feature names and importance value\n",
        "local_features = local_explanation.get_ranked_local_names() # feature names\n",
        "local_importance = local_explanation.get_ranked_local_values() # corrosponding importance values"
      ],
      "metadata": {
        "id": "5j-RmN_mYSlL"
      },
      "execution_count": 21,
      "outputs": []
    },
    {
      "cell_type": "code",
      "source": [
        "print(local_features)\n",
        "# list of classes\n",
        "# records\n",
        "# names"
      ],
      "metadata": {
        "colab": {
          "base_uri": "https://localhost:8080/"
        },
        "id": "q5PHX74hYprI",
        "outputId": "978d2526-0de9-4d0a-d91b-28d014017fcd"
      },
      "execution_count": 22,
      "outputs": [
        {
          "output_type": "stream",
          "name": "stdout",
          "text": [
            "[[['Age', 'Gender_Male', 'Geography_Germany', 'Balance', 'Tenure', 'Geography_Spain', 'HasCrCard', 'EstimatedSalary', 'NumOfProducts', 'CreditScore', 'IsActiveMember'], ['IsActiveMember', 'Geography_Spain', 'Geography_Germany', 'CreditScore', 'Tenure', 'NumOfProducts', 'HasCrCard', 'Balance', 'Gender_Male', 'EstimatedSalary', 'Age'], ['IsActiveMember', 'HasCrCard', 'EstimatedSalary', 'Gender_Male', 'Tenure', 'Geography_Spain', 'CreditScore', 'NumOfProducts', 'Balance', 'Geography_Germany', 'Age'], ['IsActiveMember', 'NumOfProducts', 'Gender_Male', 'CreditScore', 'Geography_Germany', 'EstimatedSalary', 'Tenure', 'HasCrCard', 'Geography_Spain', 'Balance', 'Age'], ['Age', 'NumOfProducts', 'IsActiveMember', 'Geography_Germany', 'Balance', 'EstimatedSalary', 'Tenure', 'Geography_Spain', 'CreditScore', 'HasCrCard', 'Gender_Male']], [['IsActiveMember', 'CreditScore', 'NumOfProducts', 'EstimatedSalary', 'HasCrCard', 'Geography_Spain', 'Tenure', 'Balance', 'Geography_Germany', 'Gender_Male', 'Age'], ['Age', 'EstimatedSalary', 'Gender_Male', 'Balance', 'HasCrCard', 'NumOfProducts', 'Tenure', 'CreditScore', 'Geography_Germany', 'Geography_Spain', 'IsActiveMember'], ['Age', 'Geography_Germany', 'Balance', 'NumOfProducts', 'CreditScore', 'Geography_Spain', 'Tenure', 'Gender_Male', 'EstimatedSalary', 'HasCrCard', 'IsActiveMember'], ['Age', 'Balance', 'Geography_Spain', 'HasCrCard', 'Tenure', 'EstimatedSalary', 'Geography_Germany', 'CreditScore', 'Gender_Male', 'NumOfProducts', 'IsActiveMember'], ['Gender_Male', 'HasCrCard', 'CreditScore', 'Geography_Spain', 'Tenure', 'EstimatedSalary', 'Balance', 'Geography_Germany', 'IsActiveMember', 'NumOfProducts', 'Age']]]\n"
          ]
        }
      ]
    },
    {
      "cell_type": "code",
      "source": [
        "print(local_importance)"
      ],
      "metadata": {
        "colab": {
          "base_uri": "https://localhost:8080/"
        },
        "id": "jxX-abEuYwf2",
        "outputId": "9a9a780f-74da-475a-9bf9-458928989caf"
      },
      "execution_count": 23,
      "outputs": [
        {
          "output_type": "stream",
          "name": "stdout",
          "text": [
            "[[[0.13311105086909705, 0.03686916287488229, 0.032613749768319725, 0.016073260694934192, 0.015483477768264054, -0.0011664072431800856, -0.0032769090409888227, -0.009009549511677864, -0.025340646756049832, -0.0393603267496369, -0.04195400553110867], [0.147186757757026, 0.034840501743273355, 0.03202028031122659, 0.013240776952768646, 0.007166744828203445, -0.007694366141858893, -0.01141777604672139, -0.023916426823660998, -0.025938798170547277, -0.0380988732240131, -0.2433459640428394], [0.13206855911958343, 0.01279653983574506, 0.0125867986734373, 0.009131576514784533, 0.008435256715377435, -0.009633113347106401, -0.01192648475867878, -0.0431783596256372, -0.05263617405911316, -0.12536950979854514, -0.19823223212699126], [0.12858831466484646, 0.0804256956690939, 0.051105248484034506, 0.01808398850814837, 0.010988945105780152, 0.005243743935099556, 0.0028851525363816238, 0.0028653691586665877, -0.00473653034443572, -0.010693671528021921, -0.19071339904673718], [0.07750453309098854, 0.06778080721410355, 0.024735712009115216, 0.012763795095030117, 0.009895029120339445, 0.008297611257118654, 0.0016440831687235219, 0.0010636937400882265, 0.00020003404373377954, -2.3494072018551417e-05, -0.019818947524363733]], [[0.041954005531108875, 0.03936032674963648, 0.025340646756049585, 0.009009549511677442, 0.0032769090409888392, 0.0011664072431801008, -0.015483477768264038, -0.01607326069493398, -0.03261374976831989, -0.03686916287488231, -0.13311105086909852], [0.2433459640428392, 0.03809887322401334, 0.025938798170547277, 0.023916426823661092, 0.011417776046721416, 0.0076943661418587906, -0.007166744828203473, -0.013240776952768504, -0.0320202803112266, -0.03484050174327338, -0.14718675775702628], [0.1982322321269895, 0.12536950979854547, 0.05263617405911347, 0.04317835962563727, 0.011926484758678862, 0.009633113347106256, -0.008435256715377513, -0.009131576514784537, -0.01258679867343725, -0.01279653983574508, -0.13206855911958468], [0.19071339904673465, 0.010693671528022006, 0.004736530344435743, -0.002865369158666601, -0.0028851525363816077, -0.005243743935099629, -0.010988945105780036, -0.01808398850814811, -0.05110524848403439, -0.08042569566909323, -0.12858831466484616], [0.019818947524364066, 2.349407201855659e-05, -0.00020003404373381125, -0.0010636937400882245, -0.0016440831687235754, -0.008297611257118616, -0.00989502912033945, -0.012763795095030188, -0.024735712009114803, -0.06778080721410264, -0.0775045330909883]]]\n"
          ]
        }
      ]
    },
    {
      "cell_type": "code",
      "source": [
        "y_pred[0:5]"
      ],
      "metadata": {
        "colab": {
          "base_uri": "https://localhost:8080/"
        },
        "id": "Izc_43cZZ84X",
        "outputId": "21118547-5ad0-472c-c1b3-3b1622a7e17b"
      },
      "execution_count": 24,
      "outputs": [
        {
          "output_type": "execute_result",
          "data": {
            "text/plain": [
              "array([0, 0, 0, 0, 0])"
            ]
          },
          "metadata": {},
          "execution_count": 24
        }
      ]
    },
    {
      "cell_type": "code",
      "source": [
        "# Print the local explanations\n",
        "for i in range(0, len(local_features)):\n",
        "    labels = local_features[i]\n",
        "    print(\"\\n Feature suppport values for : \", classes[i])\n",
        "\n",
        "    for j in range(0, len(labels)):\n",
        "\n",
        "        if y_pred[j] == i:\n",
        "            print(\"\\n\\tObservation number : \", j + 1)\n",
        "            feature_names = labels[j]\n",
        "\n",
        "            print(\"\\t\\t\", \"Feature Name\".ljust(30), \"  Value\")\n",
        "            print(\"\\t\\t\", \"-\"*30, \"-\"*10)\n",
        "\n",
        "            for k in range(0, len(feature_names)):\n",
        "                print(\"\\t\\t\", feature_names[k].ljust(30), round(local_importance[i][j][k], 6))"
      ],
      "metadata": {
        "colab": {
          "base_uri": "https://localhost:8080/"
        },
        "id": "O0eN_YUbZNzL",
        "outputId": "7147e5f9-0854-43e3-e23c-347c5390fb7a"
      },
      "execution_count": 25,
      "outputs": [
        {
          "output_type": "stream",
          "name": "stdout",
          "text": [
            "\n",
            " Feature suppport values for :  Exited\n",
            "\n",
            "\tObservation number :  1\n",
            "\t\t Feature Name                     Value\n",
            "\t\t ------------------------------ ----------\n",
            "\t\t Age                            0.133111\n",
            "\t\t Gender_Male                    0.036869\n",
            "\t\t Geography_Germany              0.032614\n",
            "\t\t Balance                        0.016073\n",
            "\t\t Tenure                         0.015483\n",
            "\t\t Geography_Spain                -0.001166\n",
            "\t\t HasCrCard                      -0.003277\n",
            "\t\t EstimatedSalary                -0.00901\n",
            "\t\t NumOfProducts                  -0.025341\n",
            "\t\t CreditScore                    -0.03936\n",
            "\t\t IsActiveMember                 -0.041954\n",
            "\n",
            "\tObservation number :  2\n",
            "\t\t Feature Name                     Value\n",
            "\t\t ------------------------------ ----------\n",
            "\t\t IsActiveMember                 0.147187\n",
            "\t\t Geography_Spain                0.034841\n",
            "\t\t Geography_Germany              0.03202\n",
            "\t\t CreditScore                    0.013241\n",
            "\t\t Tenure                         0.007167\n",
            "\t\t NumOfProducts                  -0.007694\n",
            "\t\t HasCrCard                      -0.011418\n",
            "\t\t Balance                        -0.023916\n",
            "\t\t Gender_Male                    -0.025939\n",
            "\t\t EstimatedSalary                -0.038099\n",
            "\t\t Age                            -0.243346\n",
            "\n",
            "\tObservation number :  3\n",
            "\t\t Feature Name                     Value\n",
            "\t\t ------------------------------ ----------\n",
            "\t\t IsActiveMember                 0.132069\n",
            "\t\t HasCrCard                      0.012797\n",
            "\t\t EstimatedSalary                0.012587\n",
            "\t\t Gender_Male                    0.009132\n",
            "\t\t Tenure                         0.008435\n",
            "\t\t Geography_Spain                -0.009633\n",
            "\t\t CreditScore                    -0.011926\n",
            "\t\t NumOfProducts                  -0.043178\n",
            "\t\t Balance                        -0.052636\n",
            "\t\t Geography_Germany              -0.12537\n",
            "\t\t Age                            -0.198232\n",
            "\n",
            "\tObservation number :  4\n",
            "\t\t Feature Name                     Value\n",
            "\t\t ------------------------------ ----------\n",
            "\t\t IsActiveMember                 0.128588\n",
            "\t\t NumOfProducts                  0.080426\n",
            "\t\t Gender_Male                    0.051105\n",
            "\t\t CreditScore                    0.018084\n",
            "\t\t Geography_Germany              0.010989\n",
            "\t\t EstimatedSalary                0.005244\n",
            "\t\t Tenure                         0.002885\n",
            "\t\t HasCrCard                      0.002865\n",
            "\t\t Geography_Spain                -0.004737\n",
            "\t\t Balance                        -0.010694\n",
            "\t\t Age                            -0.190713\n",
            "\n",
            "\tObservation number :  5\n",
            "\t\t Feature Name                     Value\n",
            "\t\t ------------------------------ ----------\n",
            "\t\t Age                            0.077505\n",
            "\t\t NumOfProducts                  0.067781\n",
            "\t\t IsActiveMember                 0.024736\n",
            "\t\t Geography_Germany              0.012764\n",
            "\t\t Balance                        0.009895\n",
            "\t\t EstimatedSalary                0.008298\n",
            "\t\t Tenure                         0.001644\n",
            "\t\t Geography_Spain                0.001064\n",
            "\t\t CreditScore                    0.0002\n",
            "\t\t HasCrCard                      -2.3e-05\n",
            "\t\t Gender_Male                    -0.019819\n",
            "\n",
            " Feature suppport values for :  Not Exited\n"
          ]
        }
      ]
    }
  ]
}