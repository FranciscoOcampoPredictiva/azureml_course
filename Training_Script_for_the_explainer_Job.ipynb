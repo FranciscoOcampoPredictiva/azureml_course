{
  "nbformat": 4,
  "nbformat_minor": 0,
  "metadata": {
    "colab": {
      "provenance": [],
      "include_colab_link": true
    },
    "kernelspec": {
      "name": "python3",
      "display_name": "Python 3"
    },
    "language_info": {
      "name": "python"
    }
  },
  "cells": [
    {
      "cell_type": "markdown",
      "metadata": {
        "id": "view-in-github",
        "colab_type": "text"
      },
      "source": [
        "<a href=\"https://colab.research.google.com/github/FranciscoOcampoPredictiva/azureml_course/blob/main/Training_Script_for_the_explainer_Job.ipynb\" target=\"_parent\"><img src=\"https://colab.research.google.com/assets/colab-badge.svg\" alt=\"Open In Colab\"/></a>"
      ]
    },
    {
      "cell_type": "code",
      "source": [
        "from azureml.core import Run\n",
        "\n",
        "# Get the run context\n",
        "new_run = Run.get_context()\n",
        "\n",
        "# Access the workspace\n",
        "ws = new_run.experiment.workspace"
      ],
      "metadata": {
        "id": "z39BWzfAkn00"
      },
      "execution_count": null,
      "outputs": []
    },
    {
      "cell_type": "code",
      "source": [
        "# Get parameters\n",
        "import argparse\n",
        "parser = argparse.ArgumentParser()\n",
        "parser.add_argument(\"--input-data\", type=str)\n",
        "args = parser.parse_args()"
      ],
      "metadata": {
        "id": "Ggo05dLtkoEM"
      },
      "execution_count": null,
      "outputs": []
    },
    {
      "cell_type": "code",
      "source": [
        "import pandas as pd\n",
        "\n",
        "# Access the dataset\n",
        "df = new_run.input_datasets['raw_data'].to_pandas_dataframe()\n",
        "\n",
        "# Drop columns\n",
        "df = df.drop(columns=['RowNumber', 'CustomerId', 'Surname'])\n",
        "\n",
        "# Dummy variables\n",
        "df = pd.get_dummies(df, drop_first=True)\n",
        "\n",
        "# Define X and Y\n",
        "X = df.drop(columns='Exited')\n",
        "Y = df['Exited']\n",
        "\n",
        "# Split Dataset into train and test set\n",
        "from sklearn.model_selection import train_test_split\n",
        "X_train, X_test, Y_train, Y_test = train_test_split(X, Y, test_size = 0.3, random_state = 0, stratify=Y)\n",
        "\n",
        "# Train the ML model\n",
        "from sklearn.ensemble import RandomForestClassifier\n",
        "classifier = RandomForestClassifier(random_state=0)\n",
        "trained_ml_model = classifier.fit(X_train, Y_train)\n",
        "\n",
        "#  Predict the results\n",
        "y_pred = classifier.predict(X_test)\n",
        "\n",
        "# Model evaluation\n",
        "from sklearn.metrics import confusion_matrix\n",
        "cm    = confusion_matrix(Y_test, y_pred)\n",
        "score = classifier.score(X_test, Y_test)"
      ],
      "metadata": {
        "id": "vbtr2v2AkweK"
      },
      "execution_count": null,
      "outputs": []
    },
    {
      "cell_type": "code",
      "source": [
        "# Logging the primary metric\n",
        "new_run.log(\"accuracy\", score)"
      ],
      "metadata": {
        "id": "sGl1R1eJk61T"
      },
      "execution_count": null,
      "outputs": []
    },
    {
      "cell_type": "code",
      "source": [
        "# Get explanation\n",
        "from interpret_community.tabular_explainer import TabularExplainer\n",
        "\n",
        "# Define variables\n",
        "features = list(X.columns)\n",
        "classes = ['Exited', 'Not Exited']\n",
        "\n",
        "# tabular explainer object\n",
        "tab_explainer = TabularExplainer(model=trained_ml_model,\n",
        "                                 initialization_examples=X_train,\n",
        "                                 features=features,\n",
        "                                 classes=classes)\n",
        "\n",
        "# explainations\n",
        "explaination = tab_explainer.explain_global(X_train)"
      ],
      "metadata": {
        "id": "G3Vzx__9kwg4"
      },
      "execution_count": null,
      "outputs": []
    },
    {
      "cell_type": "code",
      "source": [
        "# Upload explanations to workspace\n",
        "from azureml.interpret import ExplanationClient\n",
        "\n",
        "# Create explanation client\n",
        "explanation_client = ExplanationClient.from_run(new_run)\n",
        "\n",
        "# Upload the explanations\n",
        "explanation_client.upload_model_explanation(explaination, comment=\"Explanations\")\n",
        "\n",
        "# Complete the run\n",
        "new_run.complete()"
      ],
      "metadata": {
        "id": "z9HxshwukoG6"
      },
      "execution_count": null,
      "outputs": []
    },
    {
      "cell_type": "code",
      "source": [],
      "metadata": {
        "id": "yxS2x7p1lBK8"
      },
      "execution_count": null,
      "outputs": []
    }
  ]
}