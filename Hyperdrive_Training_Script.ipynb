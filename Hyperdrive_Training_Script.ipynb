{
  "cells": [
    {
      "cell_type": "markdown",
      "metadata": {
        "id": "view-in-github",
        "colab_type": "text"
      },
      "source": [
        "<a href=\"https://colab.research.google.com/github/FranciscoOcampoPredictiva/azureml_course/blob/main/Hyperdrive_Training_Script.ipynb\" target=\"_parent\"><img src=\"https://colab.research.google.com/assets/colab-badge.svg\" alt=\"Open In Colab\"/></a>"
      ]
    },
    {
      "cell_type": "code",
      "source": [
        "# Import the class\n",
        "from azureml.core import Run"
      ],
      "metadata": {
        "id": "x_L3QHRDF8bH"
      },
      "execution_count": null,
      "outputs": []
    },
    {
      "cell_type": "code",
      "source": [
        "# Get the run context\n",
        "new_run = Run.get_context()"
      ],
      "metadata": {
        "id": "aWgdAbN0F8em"
      },
      "execution_count": null,
      "outputs": []
    },
    {
      "cell_type": "code",
      "source": [
        "# Access the workspace\n",
        "ws = new_run.experiment.workspace"
      ],
      "metadata": {
        "id": "k3X0YgumF-Lp"
      },
      "execution_count": null,
      "outputs": []
    },
    {
      "cell_type": "code",
      "source": [
        "# Get the parameters\n",
        "import argparse\n",
        "\n",
        "parser = argparse.ArgumentParser()\n",
        "parser.add_argument('--n_estimators', type=int)\n",
        "parser.add_argument('--min_samples_leaf', type=int)\n",
        "parser.add_argument('--input-data', type=str)\n",
        "\n",
        "args = parser.parse_args()\n",
        "ne = args.n_estimators\n",
        "msl = args.min_samples_leaf"
      ],
      "metadata": {
        "id": "vEbvmgJl1IAb"
      },
      "execution_count": null,
      "outputs": []
    },
    {
      "cell_type": "code",
      "source": [
        "# read the input dataset\n",
        "import pandas as pd\n",
        "df = new_run.input_datasets['raw_data'].to_pandas_dataframe()"
      ],
      "metadata": {
        "id": "mBT81KWySpSd"
      },
      "execution_count": null,
      "outputs": []
    },
    {
      "cell_type": "code",
      "source": [
        "# Select relevant columns from the dataset\n",
        "dataPrep = df.drop(columns=['RowNumber', 'CustomerId', 'Surname'], axis=1)"
      ],
      "metadata": {
        "id": "J6SyzpeETDQF"
      },
      "execution_count": null,
      "outputs": []
    },
    {
      "cell_type": "code",
      "source": [
        "# Create Dummy variables / encoding the categorical variables\n",
        "dataPrep = pd.get_dummies(dataPrep, drop_first=True)"
      ],
      "metadata": {
        "id": "wGhznt3CTM1F"
      },
      "execution_count": null,
      "outputs": []
    },
    {
      "cell_type": "code",
      "source": [
        "# Define X and Y\n",
        "X = dataPrep.drop(['Exited'], axis=1)\n",
        "Y = dataPrep[['Exited']]"
      ],
      "metadata": {
        "id": "ZDr0lKUcTM4c"
      },
      "execution_count": null,
      "outputs": []
    },
    {
      "cell_type": "code",
      "source": [
        "# Split the dataset into train and test set\n",
        "from sklearn.model_selection import train_test_split\n",
        "X_train, X_test, Y_train, Y_test = train_test_split(X, Y, test_size = 0.3, random_state = 0, stratify=Y)"
      ],
      "metadata": {
        "id": "cYyIr5RlTM7i"
      },
      "execution_count": null,
      "outputs": []
    },
    {
      "cell_type": "code",
      "source": [
        "# Build and train the Random Forest Classification model\n",
        "from sklearn.ensemble import RandomForestClassifier\n",
        "classifier = RandomForestClassifier(n_estimators=ne, min_samples_leaf=msl)\n",
        "classifier.fit(X_train, Y_train)"
      ],
      "metadata": {
        "id": "w9T0psOtTPxF"
      },
      "execution_count": null,
      "outputs": []
    },
    {
      "cell_type": "code",
      "source": [
        "# Predict the output - Scored Label\n",
        "Y_predict = classifier.predict(X_test)"
      ],
      "metadata": {
        "id": "rvR6t-_CTQzE"
      },
      "execution_count": null,
      "outputs": []
    },
    {
      "cell_type": "code",
      "source": [
        "# Scored Probabilities\n",
        "Y_prob = classifier.predict_proba(X_test)[:, 1]"
      ],
      "metadata": {
        "id": "s74dNCv5TR3Y"
      },
      "execution_count": null,
      "outputs": []
    },
    {
      "cell_type": "code",
      "source": [
        "# Confusion matrix and accuracy score\n",
        "from sklearn.metrics import confusion_matrix\n",
        "cm    = confusion_matrix(Y_test, Y_predict)\n",
        "score = classifier.score(X_test, Y_test)"
      ],
      "metadata": {
        "id": "OZPEB0VPTS49"
      },
      "execution_count": null,
      "outputs": []
    },
    {
      "cell_type": "code",
      "source": [
        "new_run.log('accuracy', score)"
      ],
      "metadata": {
        "id": "rE-irm2TTT3B"
      },
      "execution_count": null,
      "outputs": []
    },
    {
      "cell_type": "code",
      "source": [
        "new_run.complete()"
      ],
      "metadata": {
        "id": "mHEb9SGXTT7d"
      },
      "execution_count": null,
      "outputs": []
    },
    {
      "cell_type": "code",
      "source": [],
      "metadata": {
        "id": "Q1sjQPdkUNCZ"
      },
      "execution_count": null,
      "outputs": []
    }
  ],
  "metadata": {
    "colab": {
      "provenance": [],
      "toc_visible": true,
      "include_colab_link": true
    },
    "kernelspec": {
      "display_name": "Python 3",
      "name": "python3"
    }
  },
  "nbformat": 4,
  "nbformat_minor": 0
}