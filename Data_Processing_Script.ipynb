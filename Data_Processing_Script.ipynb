{
  "nbformat": 4,
  "nbformat_minor": 0,
  "metadata": {
    "colab": {
      "provenance": [],
      "toc_visible": true,
      "include_colab_link": true
    },
    "kernelspec": {
      "name": "python3",
      "display_name": "Python 3"
    },
    "language_info": {
      "name": "python"
    }
  },
  "cells": [
    {
      "cell_type": "markdown",
      "metadata": {
        "id": "view-in-github",
        "colab_type": "text"
      },
      "source": [
        "<a href=\"https://colab.research.google.com/github/FranciscoOcampoPredictiva/azureml_course/blob/main/Data_Processing_Script.ipynb\" target=\"_parent\"><img src=\"https://colab.research.google.com/assets/colab-badge.svg\" alt=\"Open In Colab\"/></a>"
      ]
    },
    {
      "cell_type": "code",
      "source": [
        "# Import the class\n",
        "from azureml.core import Run"
      ],
      "metadata": {
        "id": "uNPTj4Jco8Xj"
      },
      "execution_count": null,
      "outputs": []
    },
    {
      "cell_type": "code",
      "source": [
        "# Get the run context\n",
        "new_run = Run.get_context()"
      ],
      "metadata": {
        "id": "ttRDE8kxpiyP"
      },
      "execution_count": null,
      "outputs": []
    },
    {
      "cell_type": "code",
      "source": [
        "# Access the workspace\n",
        "ws = new_run.experiment.workspace"
      ],
      "metadata": {
        "id": "LGom4uzYp-Nm"
      },
      "execution_count": null,
      "outputs": []
    },
    {
      "cell_type": "code",
      "source": [
        "# Read the input dataset\n",
        "import pandas as pd\n",
        "df = new_run.input_datasets['raw_data'].to_pandas_dataframe()"
      ],
      "metadata": {
        "id": "h6qY-hDFqFgj"
      },
      "execution_count": null,
      "outputs": []
    },
    {
      "cell_type": "code",
      "source": [
        "# Select relevant columns from the dataset\n",
        "dataPrep = df.drop(columns=['RowNumber', 'CustomerId', 'Surname'], axis=1)"
      ],
      "metadata": {
        "id": "skgR-jBxq77u"
      },
      "execution_count": null,
      "outputs": []
    },
    {
      "cell_type": "code",
      "source": [
        "# Create Dummy variables / encoding the categorical variables\n",
        "dataPrep = pd.get_dummies(dataPrep, drop_first=True)"
      ],
      "metadata": {
        "id": "6YdbkPaArDI7"
      },
      "execution_count": null,
      "outputs": []
    },
    {
      "cell_type": "code",
      "source": [
        "# Normalize the data\n",
        "from sklearn.preprocessing import MinMaxScaler\n",
        "scaler = MinMaxScaler()\n",
        "columns = dataPrep.select_dtypes(include='number').columns\n",
        "dataPrep[columns] = scaler.fit_transform(dataPrep[columns])"
      ],
      "metadata": {
        "id": "M8jLpCe8rDL1"
      },
      "execution_count": null,
      "outputs": []
    },
    {
      "cell_type": "code",
      "source": [
        "# Get the arguments from the pipeline job\n",
        "from argparse import ArgumentParser as AP\n",
        "parser = AP()\n",
        "parser.add_argument('--datafolder', type=str) # Adding the argument\n",
        "args = parser.parse_args()  # Passing the arguments in args"
      ],
      "metadata": {
        "id": "J0og3G0krKIi"
      },
      "execution_count": null,
      "outputs": []
    },
    {
      "cell_type": "code",
      "source": [
        "# Create the folder\n",
        "import os\n",
        "os.makedirs(args.datafolder, exist_ok=True)"
      ],
      "metadata": {
        "id": "6iKq_Y6Asph4"
      },
      "execution_count": null,
      "outputs": []
    },
    {
      "cell_type": "code",
      "source": [
        "# Create the path\n",
        "path = os.path.join(args.datafolder, 'churn_prep.csv')"
      ],
      "metadata": {
        "id": "5k_7VwrStCo2"
      },
      "execution_count": null,
      "outputs": []
    },
    {
      "cell_type": "code",
      "source": [
        "# Save the dataPrep file\n",
        "dataPrep.to_csv(path, index=False)"
      ],
      "metadata": {
        "id": "h-6kfqwKtfXF"
      },
      "execution_count": null,
      "outputs": []
    },
    {
      "cell_type": "code",
      "source": [
        "# Complete the run\n",
        "new_run.complete()"
      ],
      "metadata": {
        "id": "gXVXAljCtnaa"
      },
      "execution_count": null,
      "outputs": []
    },
    {
      "cell_type": "code",
      "source": [],
      "metadata": {
        "id": "TgAMUMQRt0cW"
      },
      "execution_count": null,
      "outputs": []
    }
  ]
}