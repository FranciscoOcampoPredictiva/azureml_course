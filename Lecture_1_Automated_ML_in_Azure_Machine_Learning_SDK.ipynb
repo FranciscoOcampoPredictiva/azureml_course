{
  "cells": [
    {
      "cell_type": "markdown",
      "metadata": {
        "id": "view-in-github",
        "colab_type": "text"
      },
      "source": [
        "<a href=\"https://colab.research.google.com/github/FranciscoOcampoPredictiva/azureml_course/blob/main/Lecture_1_Automated_ML_in_Azure_Machine_Learning_SDK.ipynb\" target=\"_parent\"><img src=\"https://colab.research.google.com/assets/colab-badge.svg\" alt=\"Open In Colab\"/></a>"
      ]
    },
    {
      "cell_type": "markdown",
      "metadata": {
        "id": "IvsItXVXlpMP"
      },
      "source": [
        "# Step 1 - Installation and Setup"
      ]
    },
    {
      "cell_type": "code",
      "execution_count": null,
      "metadata": {
        "id": "4ZXJt_2_-b2b"
      },
      "outputs": [],
      "source": [
        "# Install azureml SDK package\n",
        "! pip install -q azureml-sdk"
      ]
    },
    {
      "cell_type": "code",
      "execution_count": null,
      "metadata": {
        "id": "r0cpoYUx-csx"
      },
      "outputs": [],
      "source": [
        "# Importing the class\n",
        "from azureml.core import Workspace"
      ]
    },
    {
      "cell_type": "code",
      "execution_count": null,
      "metadata": {
        "id": "sJEq_phy-cvP"
      },
      "outputs": [],
      "source": [
        "# Accessing the workspace and creating a workspace object\n",
        "ws = Workspace.from_config(path='/content/config.json')"
      ]
    },
    {
      "cell_type": "markdown",
      "source": [
        "# Step 2 - Accessing the input data"
      ],
      "metadata": {
        "id": "2ZGKFfgF8I5u"
      }
    },
    {
      "cell_type": "code",
      "source": [
        "input_ds = ws.datasets.get('Churn Modelling Data SDK')"
      ],
      "metadata": {
        "id": "7ntit7Td8L0g"
      },
      "execution_count": null,
      "outputs": []
    },
    {
      "cell_type": "markdown",
      "source": [
        "# Step 3 - Creating the compute cluster"
      ],
      "metadata": {
        "id": "zIMg-9jw8VD_"
      }
    },
    {
      "cell_type": "code",
      "source": [
        "cluster_name = 'azureml-sdk-cluster'\n",
        "\n",
        "# Import the class AmlCompute\n",
        "from azureml.core.compute import AmlCompute\n",
        "\n",
        "# Provision the configuration using AmlCompute\n",
        "if cluster_name not in ws.compute_targets:\n",
        "  compute_config = AmlCompute.provisioning_configuration(vm_size='STANDARD_D11_V2',\n",
        "                                                         max_nodes=2)\n",
        "  cluster = AmlCompute.create(workspace=ws, name=cluster_name, provisioning_configuration=compute_config)\n",
        "  cluster.wait_for_completion()\n",
        "else:\n",
        "  cluster = ws.compute_targets[cluster_name]"
      ],
      "metadata": {
        "id": "lGRITF_18L3P"
      },
      "execution_count": null,
      "outputs": []
    },
    {
      "cell_type": "markdown",
      "source": [
        "# Step 4 - Configuring the AutoML run"
      ],
      "metadata": {
        "id": "SG1Rod9D8qRP"
      }
    },
    {
      "cell_type": "code",
      "source": [
        "# Import the class AutoMLConfig\n",
        "from azureml.train.automl import AutoMLConfig\n",
        "\n",
        "# Create an object of the class AutoMLConfig\n",
        "automl_config = AutoMLConfig(task='classification',\n",
        "                             compute_target=cluster,\n",
        "                             training_data=input_ds,\n",
        "                             validation_size=0.3,\n",
        "                             label_column_name='Exited',\n",
        "                             primary_metric='accuracy',\n",
        "                             iterations=10,\n",
        "                             max_concurrent_iterations=2,\n",
        "                             experiment_timeout_hours=0.5,\n",
        "                             featurization='auto')"
      ],
      "metadata": {
        "id": "QT7_aokD6e5R"
      },
      "execution_count": null,
      "outputs": []
    },
    {
      "cell_type": "markdown",
      "source": [
        "# Step 5 - Creating and submitting the experiment run"
      ],
      "metadata": {
        "id": "CcCKOVcc9OF3"
      }
    },
    {
      "cell_type": "code",
      "source": [
        "# Import the class Experiment\n",
        "from azureml.core.experiment import Experiment\n",
        "\n",
        "# Create the experiment\n",
        "new_exp = Experiment(workspace=ws, name='automl-experiment')\n",
        "\n",
        "# Submit the experiment run\n",
        "new_run = new_exp.submit(automl_config)\n",
        "new_run.wait_for_completion(show_output=True)"
      ],
      "metadata": {
        "colab": {
          "base_uri": "https://localhost:8080/",
          "height": 1000
        },
        "id": "X4u0V-be8264",
        "outputId": "9f069c03-1b5c-4675-8831-f4a39428bfa3"
      },
      "execution_count": null,
      "outputs": [
        {
          "output_type": "stream",
          "name": "stdout",
          "text": [
            "Submitting remote run.\n"
          ]
        },
        {
          "output_type": "display_data",
          "data": {
            "text/plain": [
              "<IPython.core.display.HTML object>"
            ],
            "text/html": [
              "<table style=\"width:100%\"><tr><th>Experiment</th><th>Id</th><th>Type</th><th>Status</th><th>Details Page</th><th>Docs Page</th></tr><tr><td>automl-experiment</td><td>AutoML_62f9970b-54fe-4eb9-afec-60b8c5dcb347</td><td>automl</td><td>NotStarted</td><td><a href=\"https://ml.azure.com/runs/AutoML_62f9970b-54fe-4eb9-afec-60b8c5dcb347?wsid=/subscriptions/76d4f7e1-3c6a-41a3-968f-043a0cb83503/resourcegroups/azureml-sdk-rg/workspaces/azureml-sdk-ws&amp;tid=aca956d5-1716-486c-9340-ffedc6d009ae\" target=\"_blank\" rel=\"noopener\">Link to Azure Machine Learning studio</a></td><td><a href=\"https://docs.microsoft.com/en-us/python/api/overview/azure/ml/intro?view=azure-ml-py\" target=\"_blank\" rel=\"noopener\">Link to Documentation</a></td></tr></table>"
            ]
          },
          "metadata": {}
        },
        {
          "output_type": "display_data",
          "data": {
            "text/plain": [
              "<IPython.core.display.HTML object>"
            ],
            "text/html": [
              "<table style=\"width:100%\"><tr><th>Experiment</th><th>Id</th><th>Type</th><th>Status</th><th>Details Page</th><th>Docs Page</th></tr><tr><td>automl-experiment</td><td>AutoML_62f9970b-54fe-4eb9-afec-60b8c5dcb347</td><td>automl</td><td>NotStarted</td><td><a href=\"https://ml.azure.com/runs/AutoML_62f9970b-54fe-4eb9-afec-60b8c5dcb347?wsid=/subscriptions/76d4f7e1-3c6a-41a3-968f-043a0cb83503/resourcegroups/azureml-sdk-rg/workspaces/azureml-sdk-ws&amp;tid=aca956d5-1716-486c-9340-ffedc6d009ae\" target=\"_blank\" rel=\"noopener\">Link to Azure Machine Learning studio</a></td><td><a href=\"https://docs.microsoft.com/en-us/python/api/overview/azure/ml/intro?view=azure-ml-py\" target=\"_blank\" rel=\"noopener\">Link to Documentation</a></td></tr></table>"
            ]
          },
          "metadata": {}
        },
        {
          "output_type": "stream",
          "name": "stdout",
          "text": [
            "\n",
            "Current status: FeaturesGeneration. Generating features for the dataset.\n",
            "Current status: DatasetFeaturizationCompleted. Completed fit featurizers and featurizing the dataset.\n",
            "Current status: ModelSelection. Beginning model selection.\n",
            "\n",
            "********************************************************************************************\n",
            "DATA GUARDRAILS: \n",
            "\n",
            "TYPE:         Class balancing detection\n",
            "STATUS:       PASSED\n",
            "DESCRIPTION:  Your inputs were analyzed, and all classes are balanced in your training data.\n",
            "              Learn more about imbalanced data: https://aka.ms/AutomatedMLImbalancedData\n",
            "\n",
            "********************************************************************************************\n",
            "\n",
            "TYPE:         Missing feature values imputation\n",
            "STATUS:       PASSED\n",
            "DESCRIPTION:  No feature missing values were detected in the training data.\n",
            "              Learn more about missing value imputation: https://aka.ms/AutomatedMLFeaturization\n",
            "\n",
            "********************************************************************************************\n",
            "\n",
            "TYPE:         High cardinality feature detection\n",
            "STATUS:       PASSED\n",
            "DESCRIPTION:  Your inputs were analyzed, and no high cardinality features were detected.\n",
            "              Learn more about high cardinality feature handling: https://aka.ms/AutomatedMLFeaturization\n",
            "\n",
            "********************************************************************************************\n",
            "\n",
            "********************************************************************************************\n",
            "ITER: The iteration being evaluated.\n",
            "PIPELINE: A summary description of the pipeline being evaluated.\n",
            "DURATION: Time taken for the current iteration.\n",
            "METRIC: The result of computing score on the fitted pipeline.\n",
            "BEST: The best observed score thus far.\n",
            "********************************************************************************************\n",
            "\n",
            " ITER   PIPELINE                                       DURATION            METRIC      BEST\n",
            "    0   MaxAbsScaler LightGBM                          0:00:14             0.8627    0.8627\n",
            "    1   MaxAbsScaler XGBoostClassifier                 0:00:16             0.8573    0.8627\n",
            "    2   MaxAbsScaler ExtremeRandomTrees                0:00:15             0.6927    0.8627\n",
            "    3   SparseNormalizer XGBoostClassifier             0:00:14             0.8633    0.8633\n",
            "    4   MaxAbsScaler LightGBM                          0:00:14             0.8650    0.8650\n",
            "    5   MaxAbsScaler LightGBM                          0:00:14             0.7987    0.8650\n",
            "    6   StandardScalerWrapper XGBoostClassifier        0:00:14             0.8467    0.8650\n",
            "    7   MaxAbsScaler LogisticRegression                0:00:17             0.8320    0.8650\n",
            "    8    VotingEnsemble                                0:00:33             0.8673    0.8673\n",
            "    9    StackEnsemble                                 0:00:39             0.8657    0.8673\n"
          ]
        },
        {
          "output_type": "execute_result",
          "data": {
            "text/plain": [
              "{'runId': 'AutoML_62f9970b-54fe-4eb9-afec-60b8c5dcb347',\n",
              " 'target': 'azureml-sdk-cluster',\n",
              " 'status': 'Completed',\n",
              " 'startTimeUtc': '2022-09-18T03:10:40.196846Z',\n",
              " 'endTimeUtc': '2022-09-18T03:20:37.982953Z',\n",
              " 'services': {},\n",
              " 'properties': {'num_iterations': '10',\n",
              "  'training_type': 'TrainFull',\n",
              "  'acquisition_function': 'EI',\n",
              "  'primary_metric': 'accuracy',\n",
              "  'train_split': '0.3',\n",
              "  'acquisition_parameter': '0',\n",
              "  'num_cross_validation': None,\n",
              "  'target': 'azureml-sdk-cluster',\n",
              "  'AMLSettingsJsonString': '{\"path\":null,\"name\":\"automl-experiment\",\"subscription_id\":\"76d4f7e1-3c6a-41a3-968f-043a0cb83503\",\"resource_group\":\"azureml-sdk-rg\",\"workspace_name\":\"azureml-sdk-ws\",\"region\":\"westus\",\"compute_target\":\"azureml-sdk-cluster\",\"spark_service\":null,\"azure_service\":\"remote\",\"many_models\":false,\"pipeline_fetch_max_batch_size\":1,\"enable_batch_run\":true,\"enable_parallel_run\":false,\"num_procs\":null,\"enable_run_restructure\":false,\"start_auxiliary_runs_before_parent_complete\":false,\"enable_code_generation\":true,\"iterations\":10,\"primary_metric\":\"accuracy\",\"task_type\":\"classification\",\"positive_label\":null,\"data_script\":null,\"test_size\":0.0,\"test_include_predictions_only\":false,\"validation_size\":0.3,\"n_cross_validations\":null,\"y_min\":null,\"y_max\":null,\"num_classes\":null,\"featurization\":\"auto\",\"_ignore_package_version_incompatibilities\":false,\"is_timeseries\":false,\"max_cores_per_iteration\":1,\"max_concurrent_iterations\":2,\"iteration_timeout_minutes\":null,\"mem_in_mb\":null,\"enforce_time_on_windows\":false,\"experiment_timeout_minutes\":30,\"experiment_exit_score\":null,\"partition_column_names\":null,\"whitelist_models\":null,\"blacklist_algos\":[\"TensorFlowLinearClassifier\",\"TensorFlowDNN\"],\"supported_models\":[\"TensorFlowDNN\",\"BernoulliNaiveBayes\",\"MultinomialNaiveBayes\",\"LogisticRegression\",\"GradientBoosting\",\"TensorFlowLinearClassifier\",\"AveragedPerceptronClassifier\",\"ExtremeRandomTrees\",\"SGD\",\"KNN\",\"SVM\",\"XGBoostClassifier\",\"LinearSVM\",\"TabnetClassifier\",\"DecisionTree\",\"RandomForest\",\"LightGBM\"],\"private_models\":[],\"auto_blacklist\":true,\"blacklist_samples_reached\":false,\"exclude_nan_labels\":true,\"verbosity\":20,\"_debug_log\":\"azureml_automl.log\",\"show_warnings\":false,\"model_explainability\":true,\"service_url\":null,\"sdk_url\":null,\"sdk_packages\":null,\"enable_onnx_compatible_models\":false,\"enable_split_onnx_featurizer_estimator_models\":false,\"vm_type\":\"STANDARD_D11_V2\",\"telemetry_verbosity\":20,\"send_telemetry\":true,\"enable_dnn\":false,\"scenario\":\"AutoML\",\"environment_label\":null,\"save_mlflow\":false,\"enable_categorical_indicators\":false,\"force_text_dnn\":false,\"enable_feature_sweeping\":true,\"enable_early_stopping\":true,\"early_stopping_n_iters\":10,\"arguments\":null,\"dataset_id\":\"babc2640-62c8-42f2-b836-16458f436fdc\",\"hyperdrive_config\":null,\"validation_dataset_id\":null,\"run_source\":null,\"metrics\":null,\"enable_metric_confidence\":false,\"enable_ensembling\":true,\"enable_stack_ensembling\":true,\"ensemble_iterations\":10,\"enable_tf\":false,\"enable_subsampling\":false,\"subsample_seed\":null,\"enable_nimbusml\":false,\"enable_streaming\":false,\"force_streaming\":false,\"track_child_runs\":true,\"n_best_runs\":1,\"allowed_private_models\":[],\"label_column_name\":\"Exited\",\"weight_column_name\":null,\"cv_split_column_names\":null,\"enable_local_managed\":false,\"_local_managed_run_id\":null,\"cost_mode\":1,\"lag_length\":0,\"metric_operation\":\"maximize\",\"preprocess\":true}',\n",
              "  'DataPrepJsonString': '{\\\\\"training_data\\\\\": {\\\\\"datasetId\\\\\": \\\\\"babc2640-62c8-42f2-b836-16458f436fdc\\\\\"}, \\\\\"datasets\\\\\": 0}',\n",
              "  'EnableSubsampling': 'False',\n",
              "  'runTemplate': 'AutoML',\n",
              "  'azureml.runsource': 'automl',\n",
              "  'display_task_type': 'classification',\n",
              "  'dependencies_versions': '{\"azureml-train-restclients-hyperdrive\": \"1.45.0\", \"azureml-train-core\": \"1.45.0\", \"azureml-train-automl-client\": \"1.45.0\", \"azureml-telemetry\": \"1.45.0\", \"azureml-sdk\": \"1.45.0\", \"azureml-pipeline\": \"1.45.0\", \"azureml-pipeline-steps\": \"1.45.0\", \"azureml-pipeline-core\": \"1.45.0\", \"azureml-dataset-runtime\": \"1.45.0\", \"azureml-dataprep\": \"4.2.2\", \"azureml-dataprep-rslex\": \"2.8.1\", \"azureml-dataprep-native\": \"38.0.0\", \"azureml-core\": \"1.45.0.post1\", \"azureml-automl-core\": \"1.45.0\"}',\n",
              "  '_aml_system_scenario_identification': 'Remote.Parent',\n",
              "  'ClientType': 'SDK',\n",
              "  'environment_cpu_name': 'AzureML-AutoML',\n",
              "  'environment_cpu_label': 'prod',\n",
              "  'environment_gpu_name': 'AzureML-AutoML-GPU',\n",
              "  'environment_gpu_label': 'prod',\n",
              "  'root_attribution': 'automl',\n",
              "  'attribution': 'AutoML',\n",
              "  'Orchestrator': 'AutoML',\n",
              "  'CancelUri': 'https://westus.api.azureml.ms/jasmine/v1.0/subscriptions/76d4f7e1-3c6a-41a3-968f-043a0cb83503/resourceGroups/azureml-sdk-rg/providers/Microsoft.MachineLearningServices/workspaces/azureml-sdk-ws/experimentids/8c8381d5-b4f5-4024-a3f4-eaa625304e80/cancel/AutoML_62f9970b-54fe-4eb9-afec-60b8c5dcb347',\n",
              "  'ClientSdkVersion': '1.44.0',\n",
              "  'snapshotId': '00000000-0000-0000-0000-000000000000',\n",
              "  'SetupRunId': 'AutoML_62f9970b-54fe-4eb9-afec-60b8c5dcb347_setup',\n",
              "  'SetupRunContainerId': 'dcid.AutoML_62f9970b-54fe-4eb9-afec-60b8c5dcb347_setup',\n",
              "  'FeaturizationRunJsonPath': 'featurizer_container.json',\n",
              "  'FeaturizationRunId': 'AutoML_62f9970b-54fe-4eb9-afec-60b8c5dcb347_featurize',\n",
              "  'ProblemInfoJsonString': '{\"dataset_num_categorical\": 0, \"is_sparse\": true, \"subsampling\": false, \"has_extra_col\": true, \"dataset_classes\": 2, \"dataset_features\": 2075, \"dataset_samples\": 7000, \"single_frequency_class_detected\": false}',\n",
              "  'ModelExplainRunId': 'AutoML_62f9970b-54fe-4eb9-afec-60b8c5dcb347_ModelExplain'},\n",
              " 'inputDatasets': [{'dataset': {'id': 'babc2640-62c8-42f2-b836-16458f436fdc'}, 'consumptionDetails': {'type': 'RunInput', 'inputName': 'training_data', 'mechanism': 'Direct'}}],\n",
              " 'outputDatasets': [],\n",
              " 'logFiles': {},\n",
              " 'submittedBy': 'Vijay Gadhave'}"
            ]
          },
          "metadata": {},
          "execution_count": 7
        }
      ]
    },
    {
      "cell_type": "markdown",
      "source": [
        "# Step 6 - Getting the best model"
      ],
      "metadata": {
        "id": "_FAdVkz9_l_B"
      }
    },
    {
      "cell_type": "code",
      "source": [
        "new_run.get_best_child(metric='accuracy')"
      ],
      "metadata": {
        "colab": {
          "base_uri": "https://localhost:8080/",
          "height": 77
        },
        "id": "jXERCxZX829u",
        "outputId": "45babdaf-5e30-4e70-9796-d65eeb76f0c7"
      },
      "execution_count": null,
      "outputs": [
        {
          "output_type": "execute_result",
          "data": {
            "text/plain": [
              "Run(Experiment: automl-experiment,\n",
              "Id: AutoML_62f9970b-54fe-4eb9-afec-60b8c5dcb347_8,\n",
              "Type: azureml.scriptrun,\n",
              "Status: Completed)"
            ],
            "text/html": [
              "<table style=\"width:100%\"><tr><th>Experiment</th><th>Id</th><th>Type</th><th>Status</th><th>Details Page</th><th>Docs Page</th></tr><tr><td>automl-experiment</td><td>AutoML_62f9970b-54fe-4eb9-afec-60b8c5dcb347_8</td><td>azureml.scriptrun</td><td>Completed</td><td><a href=\"https://ml.azure.com/runs/AutoML_62f9970b-54fe-4eb9-afec-60b8c5dcb347_8?wsid=/subscriptions/76d4f7e1-3c6a-41a3-968f-043a0cb83503/resourcegroups/azureml-sdk-rg/workspaces/azureml-sdk-ws&amp;tid=aca956d5-1716-486c-9340-ffedc6d009ae\" target=\"_blank\" rel=\"noopener\">Link to Azure Machine Learning studio</a></td><td><a href=\"https://docs.microsoft.com/en-us/python/api/azureml-core/azureml.core.run.Run?view=azure-ml-py\" target=\"_blank\" rel=\"noopener\">Link to Documentation</a></td></tr></table>"
            ]
          },
          "metadata": {},
          "execution_count": 8
        }
      ]
    },
    {
      "cell_type": "markdown",
      "source": [
        "# Step 7 - Getting the metrics for all the runs"
      ],
      "metadata": {
        "id": "AbAsU-8v_2CH"
      }
    },
    {
      "cell_type": "code",
      "source": [
        "# Get the metrics for all the runs\n",
        "for run in new_run.get_children():\n",
        "    print(\"\")\n",
        "    print(\"Run ID : \", run.id)\n",
        "    print(run.get_metrics('accuracy'))"
      ],
      "metadata": {
        "colab": {
          "base_uri": "https://localhost:8080/"
        },
        "id": "vdbVwv1S_wGv",
        "outputId": "79f3fdad-da25-4785-e9c1-bb6f5aa79ca2"
      },
      "execution_count": null,
      "outputs": [
        {
          "output_type": "stream",
          "name": "stdout",
          "text": [
            "\n",
            "Run ID :  AutoML_62f9970b-54fe-4eb9-afec-60b8c5dcb347_8\n",
            "{'accuracy': 0.8673333333333333}\n",
            "\n",
            "Run ID :  AutoML_62f9970b-54fe-4eb9-afec-60b8c5dcb347_9\n",
            "{'accuracy': 0.8656666666666667}\n",
            "\n",
            "Run ID :  AutoML_62f9970b-54fe-4eb9-afec-60b8c5dcb347_7\n",
            "{'accuracy': 0.832}\n",
            "\n",
            "Run ID :  AutoML_62f9970b-54fe-4eb9-afec-60b8c5dcb347_6\n",
            "{'accuracy': 0.8466666666666667}\n",
            "\n",
            "Run ID :  AutoML_62f9970b-54fe-4eb9-afec-60b8c5dcb347_5\n",
            "{'accuracy': 0.7986666666666666}\n",
            "\n",
            "Run ID :  AutoML_62f9970b-54fe-4eb9-afec-60b8c5dcb347_4\n",
            "{'accuracy': 0.865}\n",
            "\n",
            "Run ID :  AutoML_62f9970b-54fe-4eb9-afec-60b8c5dcb347_worker_1\n",
            "{}\n",
            "\n",
            "Run ID :  AutoML_62f9970b-54fe-4eb9-afec-60b8c5dcb347_3\n",
            "{'accuracy': 0.8633333333333333}\n",
            "\n",
            "Run ID :  AutoML_62f9970b-54fe-4eb9-afec-60b8c5dcb347_2\n",
            "{'accuracy': 0.6926666666666667}\n",
            "\n",
            "Run ID :  AutoML_62f9970b-54fe-4eb9-afec-60b8c5dcb347_1\n",
            "{'accuracy': 0.8573333333333333}\n",
            "\n",
            "Run ID :  AutoML_62f9970b-54fe-4eb9-afec-60b8c5dcb347_0\n",
            "{'accuracy': 0.8626666666666667}\n",
            "\n",
            "Run ID :  AutoML_62f9970b-54fe-4eb9-afec-60b8c5dcb347_worker_0\n",
            "{}\n",
            "\n",
            "Run ID :  AutoML_62f9970b-54fe-4eb9-afec-60b8c5dcb347_featurize\n",
            "{}\n",
            "\n",
            "Run ID :  AutoML_62f9970b-54fe-4eb9-afec-60b8c5dcb347_setup\n",
            "{}\n"
          ]
        }
      ]
    },
    {
      "cell_type": "code",
      "source": [],
      "metadata": {
        "id": "_tk7sK3zAOcQ"
      },
      "execution_count": null,
      "outputs": []
    }
  ],
  "metadata": {
    "colab": {
      "provenance": [],
      "toc_visible": true,
      "include_colab_link": true
    },
    "kernelspec": {
      "display_name": "Python 3",
      "name": "python3"
    }
  },
  "nbformat": 4,
  "nbformat_minor": 0
}