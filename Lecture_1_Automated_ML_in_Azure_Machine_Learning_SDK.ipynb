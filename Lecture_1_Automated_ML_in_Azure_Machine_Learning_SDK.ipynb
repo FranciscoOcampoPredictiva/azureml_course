{
  "cells": [
    {
      "cell_type": "markdown",
      "metadata": {
        "id": "view-in-github",
        "colab_type": "text"
      },
      "source": [
        "<a href=\"https://colab.research.google.com/github/FranciscoOcampoPredictiva/azureml_course/blob/main/Lecture_1_Automated_ML_in_Azure_Machine_Learning_SDK.ipynb\" target=\"_parent\"><img src=\"https://colab.research.google.com/assets/colab-badge.svg\" alt=\"Open In Colab\"/></a>"
      ]
    },
    {
      "cell_type": "markdown",
      "metadata": {
        "id": "IvsItXVXlpMP"
      },
      "source": [
        "# Step 1 - Installation and Setup"
      ]
    },
    {
      "cell_type": "code",
      "execution_count": 1,
      "metadata": {
        "id": "4ZXJt_2_-b2b",
        "outputId": "56e0ff0d-3f98-430d-eae0-bc252157ab88",
        "colab": {
          "base_uri": "https://localhost:8080/"
        }
      },
      "outputs": [
        {
          "output_type": "stream",
          "name": "stdout",
          "text": [
            "\u001b[2K     \u001b[90m━━━━━━━━━━━━━━━━━━━━━━━━━━━━━━━━━━━━━━━━\u001b[0m \u001b[32m35.3/35.3 MB\u001b[0m \u001b[31m14.5 MB/s\u001b[0m eta \u001b[36m0:00:00\u001b[0m\n",
            "\u001b[?25h"
          ]
        }
      ],
      "source": [
        "# Install azureml SDK package\n",
        "! pip install -q azureml-sdk"
      ]
    },
    {
      "cell_type": "code",
      "execution_count": 2,
      "metadata": {
        "id": "r0cpoYUx-csx",
        "outputId": "484ffaae-24f0-4715-da62-3704123264d9",
        "colab": {
          "base_uri": "https://localhost:8080/"
        }
      },
      "outputs": [
        {
          "output_type": "stream",
          "name": "stderr",
          "text": [
            "WARNING:azureml.core:Failure while loading azureml_run_type_providers. Failed to load entrypoint azureml.scriptrun = azureml.core.script_run:ScriptRun._from_run_dto with exception (packaging 23.1 (/usr/local/lib/python3.10/dist-packages), Requirement.parse('packaging<=23.0,>=20.0')).\n",
            "WARNING:azureml.core:Failure while loading azureml_run_type_providers. Failed to load entrypoint azureml.PipelineRun = azureml.pipeline.core.run:PipelineRun._from_dto with exception (packaging 23.1 (/usr/local/lib/python3.10/dist-packages), Requirement.parse('packaging<=23.0,>=20.0'), {'azureml-core'}).\n",
            "WARNING:azureml.core:Failure while loading azureml_run_type_providers. Failed to load entrypoint azureml.ReusedStepRun = azureml.pipeline.core.run:StepRun._from_reused_dto with exception (packaging 23.1 (/usr/local/lib/python3.10/dist-packages), Requirement.parse('packaging<=23.0,>=20.0'), {'azureml-core'}).\n",
            "WARNING:azureml.core:Failure while loading azureml_run_type_providers. Failed to load entrypoint azureml.StepRun = azureml.pipeline.core.run:StepRun._from_dto with exception (packaging 23.1 (/usr/local/lib/python3.10/dist-packages), Requirement.parse('packaging<=23.0,>=20.0'), {'azureml-core'}).\n",
            "WARNING:azureml.core:Failure while loading azureml_run_type_providers. Failed to load entrypoint automl = azureml.train.automl.run:AutoMLRun._from_run_dto with exception (packaging 23.1 (/usr/local/lib/python3.10/dist-packages), Requirement.parse('packaging<=23.0,>=20.0'), {'azureml-core'}).\n",
            "WARNING:azureml.core:Failure while loading azureml_run_type_providers. Failed to load entrypoint hyperdrive = azureml.train.hyperdrive:HyperDriveRun._from_run_dto with exception (packaging 23.1 (/usr/local/lib/python3.10/dist-packages), Requirement.parse('packaging<=23.0,>=20.0'), {'azureml-core'}).\n"
          ]
        }
      ],
      "source": [
        "# Importing the class\n",
        "from azureml.core import Workspace"
      ]
    },
    {
      "cell_type": "code",
      "execution_count": 3,
      "metadata": {
        "id": "sJEq_phy-cvP"
      },
      "outputs": [],
      "source": [
        "# Accessing the workspace and creating a workspace object\n",
        "ws = Workspace.from_config(path='/content/config.json')"
      ]
    },
    {
      "cell_type": "markdown",
      "source": [
        "# Step 2 - Accessing the input data"
      ],
      "metadata": {
        "id": "2ZGKFfgF8I5u"
      }
    },
    {
      "cell_type": "code",
      "source": [
        "input_ds = ws.datasets.get('Churn-Modelling-Data-SDK')"
      ],
      "metadata": {
        "id": "7ntit7Td8L0g"
      },
      "execution_count": 4,
      "outputs": []
    },
    {
      "cell_type": "markdown",
      "source": [
        "# Step 3 - Creating the compute cluster"
      ],
      "metadata": {
        "id": "zIMg-9jw8VD_"
      }
    },
    {
      "cell_type": "code",
      "source": [
        "cluster_name = 'azureml-sdk-cluster'\n",
        "\n",
        "# Import the class AmlCompute\n",
        "from azureml.core.compute import AmlCompute\n",
        "\n",
        "# Provision the configuration using AmlCompute\n",
        "if cluster_name not in ws.compute_targets:\n",
        "  compute_config = AmlCompute.provisioning_configuration(vm_size='STANDARD_D11_V2',\n",
        "                                                         max_nodes=2)\n",
        "  cluster = AmlCompute.create(workspace=ws, name=cluster_name, provisioning_configuration=compute_config)\n",
        "  cluster.wait_for_completion()\n",
        "else:\n",
        "  cluster = ws.compute_targets[cluster_name]"
      ],
      "metadata": {
        "id": "lGRITF_18L3P"
      },
      "execution_count": 5,
      "outputs": []
    },
    {
      "cell_type": "markdown",
      "source": [
        "# Step 4 - Configuring the AutoML run"
      ],
      "metadata": {
        "id": "SG1Rod9D8qRP"
      }
    },
    {
      "cell_type": "code",
      "source": [
        "# Import the class AutoMLConfig\n",
        "from azureml.train.automl import AutoMLConfig\n",
        "\n",
        "# Create an object of the class AutoMLConfig\n",
        "automl_config = AutoMLConfig(task='classification',\n",
        "                             compute_target=cluster,\n",
        "                             training_data=input_ds,\n",
        "                             validation_size=0.3,\n",
        "                             label_column_name='Exited',\n",
        "                             primary_metric='accuracy',\n",
        "                             iterations=10,\n",
        "                             max_concurrent_iterations=2,\n",
        "                             experiment_timeout_hours=0.5,\n",
        "                             featurization='auto')"
      ],
      "metadata": {
        "id": "QT7_aokD6e5R"
      },
      "execution_count": 6,
      "outputs": []
    },
    {
      "cell_type": "markdown",
      "source": [
        "# Step 5 - Creating and submitting the experiment run"
      ],
      "metadata": {
        "id": "CcCKOVcc9OF3"
      }
    },
    {
      "cell_type": "code",
      "source": [
        "!pip install --upgrade azureml-core\n",
        "!pip install --upgrade packaging\n"
      ],
      "metadata": {
        "id": "_UizzRYM6U35",
        "outputId": "82a90496-2471-42ea-c4c2-4f46e9142973",
        "colab": {
          "base_uri": "https://localhost:8080/"
        }
      },
      "execution_count": 7,
      "outputs": [
        {
          "output_type": "stream",
          "name": "stdout",
          "text": [
            "Looking in indexes: https://pypi.org/simple, https://us-python.pkg.dev/colab-wheels/public/simple/\n",
            "Requirement already satisfied: azureml-core in /usr/local/lib/python3.10/dist-packages (1.51.0.post1)\n",
            "Requirement already satisfied: pytz in /usr/local/lib/python3.10/dist-packages (from azureml-core) (2022.7.1)\n",
            "Requirement already satisfied: backports.tempfile in /usr/local/lib/python3.10/dist-packages (from azureml-core) (1.0)\n",
            "Requirement already satisfied: pathspec<1.0.0 in /usr/local/lib/python3.10/dist-packages (from azureml-core) (0.11.1)\n",
            "Requirement already satisfied: requests[socks]<3.0.0,>=2.19.1 in /usr/local/lib/python3.10/dist-packages (from azureml-core) (2.27.1)\n",
            "Requirement already satisfied: msal<2.0.0,>=1.15.0 in /usr/local/lib/python3.10/dist-packages (from azureml-core) (1.22.0)\n",
            "Requirement already satisfied: msal-extensions<=1.0.0,>=0.3.0 in /usr/local/lib/python3.10/dist-packages (from azureml-core) (1.0.0)\n",
            "Requirement already satisfied: knack~=0.10.0 in /usr/local/lib/python3.10/dist-packages (from azureml-core) (0.10.1)\n",
            "Requirement already satisfied: azure-core<2.0.0 in /usr/local/lib/python3.10/dist-packages (from azureml-core) (1.27.1)\n",
            "Requirement already satisfied: pkginfo in /usr/local/lib/python3.10/dist-packages (from azureml-core) (1.9.6)\n",
            "Requirement already satisfied: argcomplete<3 in /usr/local/lib/python3.10/dist-packages (from azureml-core) (2.1.2)\n",
            "Requirement already satisfied: humanfriendly<11.0,>=4.7 in /usr/local/lib/python3.10/dist-packages (from azureml-core) (10.0)\n",
            "Requirement already satisfied: paramiko<4.0.0,>=2.0.8 in /usr/local/lib/python3.10/dist-packages (from azureml-core) (3.2.0)\n",
            "Requirement already satisfied: azure-mgmt-resource<=22.0.0,>=15.0.0 in /usr/local/lib/python3.10/dist-packages (from azureml-core) (22.0.0)\n",
            "Requirement already satisfied: azure-mgmt-containerregistry<11,>=8.2.0 in /usr/local/lib/python3.10/dist-packages (from azureml-core) (10.1.0)\n",
            "Requirement already satisfied: azure-mgmt-storage<=21.0.0,>=16.0.0 in /usr/local/lib/python3.10/dist-packages (from azureml-core) (21.0.0)\n",
            "Requirement already satisfied: azure-mgmt-keyvault<11.0.0,>=0.40.0 in /usr/local/lib/python3.10/dist-packages (from azureml-core) (10.2.2)\n",
            "Requirement already satisfied: azure-mgmt-authorization<4,>=0.40.0 in /usr/local/lib/python3.10/dist-packages (from azureml-core) (3.0.0)\n",
            "Requirement already satisfied: azure-graphrbac<1.0.0,>=0.40.0 in /usr/local/lib/python3.10/dist-packages (from azureml-core) (0.61.1)\n",
            "Requirement already satisfied: azure-common<2.0.0,>=1.1.12 in /usr/local/lib/python3.10/dist-packages (from azureml-core) (1.1.28)\n",
            "Requirement already satisfied: msrest<=0.7.1,>=0.5.1 in /usr/local/lib/python3.10/dist-packages (from azureml-core) (0.7.1)\n",
            "Requirement already satisfied: msrestazure<=0.6.4,>=0.4.33 in /usr/local/lib/python3.10/dist-packages (from azureml-core) (0.6.4)\n",
            "Requirement already satisfied: urllib3<2.0.0,>=1.23 in /usr/local/lib/python3.10/dist-packages (from azureml-core) (1.26.16)\n",
            "Requirement already satisfied: packaging<=23.0,>=20.0 in /usr/local/lib/python3.10/dist-packages (from azureml-core) (23.0)\n",
            "Requirement already satisfied: cryptography!=1.9,!=2.0.*,!=2.1.*,!=2.2.*,>=41 in /usr/local/lib/python3.10/dist-packages (from azureml-core) (41.0.1)\n",
            "Requirement already satisfied: python-dateutil<3.0.0,>=2.7.3 in /usr/local/lib/python3.10/dist-packages (from azureml-core) (2.8.2)\n",
            "Requirement already satisfied: ndg-httpsclient<=0.5.1 in /usr/local/lib/python3.10/dist-packages (from azureml-core) (0.5.1)\n",
            "Requirement already satisfied: SecretStorage<4.0.0 in /usr/local/lib/python3.10/dist-packages (from azureml-core) (3.3.3)\n",
            "Requirement already satisfied: jsonpickle<4.0.0 in /usr/local/lib/python3.10/dist-packages (from azureml-core) (3.0.1)\n",
            "Requirement already satisfied: contextlib2<22.0.0 in /usr/local/lib/python3.10/dist-packages (from azureml-core) (0.6.0.post1)\n",
            "Requirement already satisfied: docker<7.0.0 in /usr/local/lib/python3.10/dist-packages (from azureml-core) (6.1.3)\n",
            "Requirement already satisfied: PyJWT<3.0.0 in /usr/local/lib/python3.10/dist-packages (from azureml-core) (2.7.0)\n",
            "Requirement already satisfied: adal<=1.2.7,>=1.2.0 in /usr/local/lib/python3.10/dist-packages (from azureml-core) (1.2.7)\n",
            "Requirement already satisfied: pyopenssl<24.0.0 in /usr/local/lib/python3.10/dist-packages (from azureml-core) (23.2.0)\n",
            "Requirement already satisfied: jmespath<2.0.0 in /usr/local/lib/python3.10/dist-packages (from azureml-core) (1.0.1)\n",
            "Requirement already satisfied: six>=1.11.0 in /usr/local/lib/python3.10/dist-packages (from azure-core<2.0.0->azureml-core) (1.16.0)\n",
            "Requirement already satisfied: typing-extensions>=4.3.0 in /usr/local/lib/python3.10/dist-packages (from azure-core<2.0.0->azureml-core) (4.6.3)\n",
            "Requirement already satisfied: azure-mgmt-core<2.0.0,>=1.3.2 in /usr/local/lib/python3.10/dist-packages (from azure-mgmt-authorization<4,>=0.40.0->azureml-core) (1.4.0)\n",
            "Requirement already satisfied: isodate<1.0.0,>=0.6.1 in /usr/local/lib/python3.10/dist-packages (from azure-mgmt-keyvault<11.0.0,>=0.40.0->azureml-core) (0.6.1)\n",
            "Requirement already satisfied: cffi>=1.12 in /usr/local/lib/python3.10/dist-packages (from cryptography!=1.9,!=2.0.*,!=2.1.*,!=2.2.*,>=41->azureml-core) (1.15.1)\n",
            "Requirement already satisfied: websocket-client>=0.32.0 in /usr/local/lib/python3.10/dist-packages (from docker<7.0.0->azureml-core) (1.6.0)\n",
            "Requirement already satisfied: pygments in /usr/local/lib/python3.10/dist-packages (from knack~=0.10.0->azureml-core) (2.14.0)\n",
            "Requirement already satisfied: pyyaml in /usr/local/lib/python3.10/dist-packages (from knack~=0.10.0->azureml-core) (6.0)\n",
            "Requirement already satisfied: tabulate in /usr/local/lib/python3.10/dist-packages (from knack~=0.10.0->azureml-core) (0.8.10)\n",
            "Requirement already satisfied: portalocker<3,>=1.0 in /usr/local/lib/python3.10/dist-packages (from msal-extensions<=1.0.0,>=0.3.0->azureml-core) (2.7.0)\n",
            "Requirement already satisfied: certifi>=2017.4.17 in /usr/local/lib/python3.10/dist-packages (from msrest<=0.7.1,>=0.5.1->azureml-core) (2023.5.7)\n",
            "Requirement already satisfied: requests-oauthlib>=0.5.0 in /usr/local/lib/python3.10/dist-packages (from msrest<=0.7.1,>=0.5.1->azureml-core) (1.3.1)\n",
            "Requirement already satisfied: pyasn1>=0.1.1 in /usr/local/lib/python3.10/dist-packages (from ndg-httpsclient<=0.5.1->azureml-core) (0.5.0)\n",
            "Requirement already satisfied: bcrypt>=3.2 in /usr/local/lib/python3.10/dist-packages (from paramiko<4.0.0,>=2.0.8->azureml-core) (4.0.1)\n",
            "Requirement already satisfied: pynacl>=1.5 in /usr/local/lib/python3.10/dist-packages (from paramiko<4.0.0,>=2.0.8->azureml-core) (1.5.0)\n",
            "Requirement already satisfied: charset-normalizer~=2.0.0 in /usr/local/lib/python3.10/dist-packages (from requests[socks]<3.0.0,>=2.19.1->azureml-core) (2.0.12)\n",
            "Requirement already satisfied: idna<4,>=2.5 in /usr/local/lib/python3.10/dist-packages (from requests[socks]<3.0.0,>=2.19.1->azureml-core) (3.4)\n",
            "Requirement already satisfied: PySocks!=1.5.7,>=1.5.6 in /usr/local/lib/python3.10/dist-packages (from requests[socks]<3.0.0,>=2.19.1->azureml-core) (1.7.1)\n",
            "Requirement already satisfied: jeepney>=0.6 in /usr/local/lib/python3.10/dist-packages (from SecretStorage<4.0.0->azureml-core) (0.8.0)\n",
            "Requirement already satisfied: backports.weakref in /usr/local/lib/python3.10/dist-packages (from backports.tempfile->azureml-core) (1.0.post1)\n",
            "Requirement already satisfied: pycparser in /usr/local/lib/python3.10/dist-packages (from cffi>=1.12->cryptography!=1.9,!=2.0.*,!=2.1.*,!=2.2.*,>=41->azureml-core) (2.21)\n",
            "Requirement already satisfied: oauthlib>=3.0.0 in /usr/local/lib/python3.10/dist-packages (from requests-oauthlib>=0.5.0->msrest<=0.7.1,>=0.5.1->azureml-core) (3.2.2)\n",
            "Looking in indexes: https://pypi.org/simple, https://us-python.pkg.dev/colab-wheels/public/simple/\n",
            "Requirement already satisfied: packaging in /usr/local/lib/python3.10/dist-packages (23.0)\n",
            "Collecting packaging\n",
            "  Using cached packaging-23.1-py3-none-any.whl (48 kB)\n",
            "Installing collected packages: packaging\n",
            "  Attempting uninstall: packaging\n",
            "    Found existing installation: packaging 23.0\n",
            "    Uninstalling packaging-23.0:\n",
            "      Successfully uninstalled packaging-23.0\n",
            "\u001b[31mERROR: pip's dependency resolver does not currently take into account all the packages that are installed. This behaviour is the source of the following dependency conflicts.\n",
            "azureml-core 1.51.0.post1 requires packaging<=23.0,>=20.0, but you have packaging 23.1 which is incompatible.\u001b[0m\u001b[31m\n",
            "\u001b[0mSuccessfully installed packaging-23.1\n"
          ]
        }
      ]
    },
    {
      "cell_type": "code",
      "source": [
        "# Import the class Experiment\n",
        "from azureml.core.experiment import Experiment\n",
        "\n",
        "# Create the experiment\n",
        "new_exp = Experiment(workspace=ws, name='automl-experiment-sdk')\n",
        "\n",
        "# Submit the experiment run\n",
        "new_run = new_exp.submit(automl_config)\n",
        "new_run.wait_for_completion(show_output=True)"
      ],
      "metadata": {
        "colab": {
          "base_uri": "https://localhost:8080/",
          "height": 1000
        },
        "id": "X4u0V-be8264",
        "outputId": "eb184c57-8d22-46c1-daa3-9bba329df836"
      },
      "execution_count": 8,
      "outputs": [
        {
          "output_type": "stream",
          "name": "stdout",
          "text": [
            "Submitting remote run.\n"
          ]
        },
        {
          "output_type": "display_data",
          "data": {
            "text/html": [
              "<table style=\"width:100%\"><tr><th>Experiment</th><th>Id</th><th>Type</th><th>Status</th><th>Details Page</th><th>Docs Page</th></tr><tr><td>automl-experiment-sdk</td><td>AutoML_dae9b76f-0e0d-40bd-813c-74a06b68c8a8</td><td>automl</td><td>NotStarted</td><td><a href=\"https://ml.azure.com/runs/AutoML_dae9b76f-0e0d-40bd-813c-74a06b68c8a8?wsid=/subscriptions/8dd92a15-7a35-444a-99e8-7e44a3d0ae52/resourcegroups/azure-ml/workspaces/new_wrokspace&amp;tid=20d3fbd0-4c6d-4dbc-b91c-aa00b337238c\" target=\"_blank\" rel=\"noopener\">Link to Azure Machine Learning studio</a></td><td><a href=\"https://docs.microsoft.com/en-us/python/api/overview/azure/ml/intro?view=azure-ml-py\" target=\"_blank\" rel=\"noopener\">Link to Documentation</a></td></tr></table>"
            ]
          },
          "metadata": {}
        },
        {
          "output_type": "display_data",
          "data": {
            "text/html": [
              "<table style=\"width:100%\"><tr><th>Experiment</th><th>Id</th><th>Type</th><th>Status</th><th>Details Page</th><th>Docs Page</th></tr><tr><td>automl-experiment-sdk</td><td>AutoML_dae9b76f-0e0d-40bd-813c-74a06b68c8a8</td><td>automl</td><td>NotStarted</td><td><a href=\"https://ml.azure.com/runs/AutoML_dae9b76f-0e0d-40bd-813c-74a06b68c8a8?wsid=/subscriptions/8dd92a15-7a35-444a-99e8-7e44a3d0ae52/resourcegroups/azure-ml/workspaces/new_wrokspace&amp;tid=20d3fbd0-4c6d-4dbc-b91c-aa00b337238c\" target=\"_blank\" rel=\"noopener\">Link to Azure Machine Learning studio</a></td><td><a href=\"https://docs.microsoft.com/en-us/python/api/overview/azure/ml/intro?view=azure-ml-py\" target=\"_blank\" rel=\"noopener\">Link to Documentation</a></td></tr></table>"
            ]
          },
          "metadata": {}
        },
        {
          "output_type": "stream",
          "name": "stdout",
          "text": [
            "\n",
            "Current status: FeaturesGeneration. Generating features for the dataset.\n",
            "Current status: DatasetFeaturization. Beginning to fit featurizers and featurize the dataset.\n",
            "Current status: DatasetFeaturizationCompleted. Completed fit featurizers and featurizing the dataset.\n",
            "Current status: ModelSelection. Beginning model selection.\n",
            "\n",
            "********************************************************************************************\n",
            "DATA GUARDRAILS: \n",
            "\n",
            "TYPE:         Class balancing detection\n",
            "STATUS:       PASSED\n",
            "DESCRIPTION:  Your inputs were analyzed, and all classes are balanced in your training data.\n",
            "              Learn more about imbalanced data: https://aka.ms/AutomatedMLImbalancedData\n",
            "\n",
            "********************************************************************************************\n",
            "\n",
            "TYPE:         Missing feature values imputation\n",
            "STATUS:       PASSED\n",
            "DESCRIPTION:  No feature missing values were detected in the training data.\n",
            "              Learn more about missing value imputation: https://aka.ms/AutomatedMLFeaturization\n",
            "\n",
            "********************************************************************************************\n",
            "\n",
            "TYPE:         High cardinality feature detection\n",
            "STATUS:       PASSED\n",
            "DESCRIPTION:  Your inputs were analyzed, and no high cardinality features were detected.\n",
            "              Learn more about high cardinality feature handling: https://aka.ms/AutomatedMLFeaturization\n",
            "\n",
            "********************************************************************************************\n",
            "\n",
            "********************************************************************************************\n",
            "ITER: The iteration being evaluated.\n",
            "PIPELINE: A summary description of the pipeline being evaluated.\n",
            "DURATION: Time taken for the current iteration.\n",
            "METRIC: The result of computing score on the fitted pipeline.\n",
            "BEST: The best observed score thus far.\n",
            "********************************************************************************************\n",
            "\n",
            " ITER   PIPELINE                                       DURATION            METRIC      BEST\n",
            "    0   MaxAbsScaler LightGBM                          0:00:13             0.8627    0.8627\n",
            "    1   MaxAbsScaler XGBoostClassifier                 0:00:12             0.8573    0.8627\n",
            "    2   MaxAbsScaler ExtremeRandomTrees                0:00:12             0.7030    0.8627\n",
            "    3   SparseNormalizer XGBoostClassifier             0:00:11             0.8633    0.8633\n",
            "    4   MaxAbsScaler LightGBM                          0:00:18             0.8650    0.8650\n",
            "    5   MaxAbsScaler LightGBM                          0:00:11             0.7987    0.8650\n",
            "    6   StandardScalerWrapper XGBoostClassifier        0:00:16             0.8467    0.8650\n",
            "    7   MaxAbsScaler LogisticRegression                0:00:11             0.8320    0.8650\n",
            "    8    VotingEnsemble                                0:00:36             0.8673    0.8673\n",
            "    9    StackEnsemble                                 0:00:39             0.8633    0.8673\n"
          ]
        },
        {
          "output_type": "execute_result",
          "data": {
            "text/plain": [
              "{'runId': 'AutoML_dae9b76f-0e0d-40bd-813c-74a06b68c8a8',\n",
              " 'target': 'azureml-sdk-cluster',\n",
              " 'status': 'Completed',\n",
              " 'startTimeUtc': '2023-06-25T23:37:33.705717Z',\n",
              " 'endTimeUtc': '2023-06-25T23:47:23.662486Z',\n",
              " 'services': {},\n",
              " 'properties': {'num_iterations': '10',\n",
              "  'training_type': 'TrainFull',\n",
              "  'acquisition_function': 'EI',\n",
              "  'primary_metric': 'accuracy',\n",
              "  'train_split': '0.3',\n",
              "  'acquisition_parameter': '0',\n",
              "  'num_cross_validation': None,\n",
              "  'target': 'azureml-sdk-cluster',\n",
              "  'AMLSettingsJsonString': '{\"path\":null,\"name\":\"automl-experiment-sdk\",\"subscription_id\":\"8dd92a15-7a35-444a-99e8-7e44a3d0ae52\",\"resource_group\":\"azure-ml\",\"workspace_name\":\"new_wrokspace\",\"region\":\"centralus\",\"compute_target\":\"azureml-sdk-cluster\",\"spark_service\":null,\"azure_service\":\"remote\",\"many_models\":false,\"pipeline_fetch_max_batch_size\":1,\"enable_batch_run\":true,\"enable_parallel_run\":false,\"num_procs\":null,\"enable_run_restructure\":false,\"start_auxiliary_runs_before_parent_complete\":false,\"enable_code_generation\":true,\"iterations\":10,\"primary_metric\":\"accuracy\",\"task_type\":\"classification\",\"positive_label\":null,\"data_script\":null,\"test_size\":0.0,\"test_include_predictions_only\":false,\"validation_size\":0.3,\"n_cross_validations\":null,\"y_min\":null,\"y_max\":null,\"num_classes\":null,\"featurization\":\"auto\",\"_ignore_package_version_incompatibilities\":false,\"is_timeseries\":false,\"max_cores_per_iteration\":1,\"max_concurrent_iterations\":2,\"iteration_timeout_minutes\":null,\"mem_in_mb\":null,\"enforce_time_on_windows\":false,\"experiment_timeout_minutes\":30,\"experiment_exit_score\":null,\"partition_column_names\":null,\"whitelist_models\":null,\"blacklist_algos\":[\"TensorFlowLinearClassifier\",\"TensorFlowDNN\"],\"supported_models\":[\"MultinomialNaiveBayes\",\"RandomForest\",\"SGD\",\"LightGBM\",\"TabnetClassifier\",\"XGBoostClassifier\",\"ExtremeRandomTrees\",\"LogisticRegression\",\"GradientBoosting\",\"AveragedPerceptronClassifier\",\"KNN\",\"TensorFlowDNN\",\"BernoulliNaiveBayes\",\"TensorFlowLinearClassifier\",\"DecisionTree\",\"SVM\",\"LinearSVM\"],\"private_models\":[],\"auto_blacklist\":true,\"blacklist_samples_reached\":false,\"exclude_nan_labels\":true,\"verbosity\":20,\"_debug_log\":\"azureml_automl.log\",\"show_warnings\":false,\"model_explainability\":true,\"service_url\":null,\"sdk_url\":null,\"sdk_packages\":null,\"enable_onnx_compatible_models\":false,\"enable_split_onnx_featurizer_estimator_models\":false,\"vm_type\":\"STANDARD_D11_V2\",\"telemetry_verbosity\":20,\"send_telemetry\":true,\"enable_dnn\":false,\"scenario\":\"AutoML\",\"environment_label\":null,\"save_mlflow\":false,\"enable_categorical_indicators\":false,\"force_text_dnn\":false,\"enable_feature_sweeping\":true,\"enable_early_stopping\":true,\"early_stopping_n_iters\":10,\"arguments\":null,\"dataset_id\":\"23f4c02f-90a5-4f21-9470-ed8583e97e60\",\"hyperdrive_config\":null,\"validation_dataset_id\":null,\"run_source\":null,\"metrics\":null,\"enable_metric_confidence\":false,\"enable_ensembling\":true,\"enable_stack_ensembling\":true,\"ensemble_iterations\":10,\"enable_tf\":false,\"enable_subsampling\":false,\"subsample_seed\":null,\"enable_nimbusml\":false,\"enable_streaming\":false,\"force_streaming\":false,\"track_child_runs\":true,\"n_best_runs\":1,\"allowed_private_models\":[],\"label_column_name\":\"Exited\",\"weight_column_name\":null,\"cv_split_column_names\":null,\"enable_local_managed\":false,\"_local_managed_run_id\":null,\"cost_mode\":1,\"lag_length\":0,\"metric_operation\":\"maximize\",\"preprocess\":true}',\n",
              "  'DataPrepJsonString': '{\\\\\"training_data\\\\\": {\\\\\"datasetId\\\\\": \\\\\"23f4c02f-90a5-4f21-9470-ed8583e97e60\\\\\"}, \\\\\"datasets\\\\\": 0}',\n",
              "  'EnableSubsampling': 'False',\n",
              "  'runTemplate': 'AutoML',\n",
              "  'azureml.runsource': 'automl',\n",
              "  'display_task_type': 'classification',\n",
              "  'dependencies_versions': '{\"azureml-automl-core\": \"1.51.0.post1\", \"azureml-core\": \"1.51.0.post1\", \"azureml-dataprep\": \"4.10.8\", \"azureml-dataprep-native\": \"38.0.0\", \"azureml-dataprep-rslex\": \"2.17.12\", \"azureml-dataset-runtime\": \"1.51.0\", \"azureml-pipeline\": \"1.51.0\", \"azureml-pipeline-core\": \"1.51.0\", \"azureml-pipeline-steps\": \"1.51.0\", \"azureml-sdk\": \"1.51.0\", \"azureml-telemetry\": \"1.51.0\", \"azureml-train-automl-client\": \"1.51.0.post1\", \"azureml-train-core\": \"1.51.0\", \"azureml-train-restclients-hyperdrive\": \"1.51.0\"}',\n",
              "  '_aml_system_scenario_identification': 'Remote.Parent',\n",
              "  'ClientType': 'SDK',\n",
              "  'PlatformVersion': 'DPV1',\n",
              "  'environment_cpu_name': 'AzureML-AutoML',\n",
              "  'environment_cpu_label': 'prod',\n",
              "  'environment_gpu_name': 'AzureML-AutoML-GPU',\n",
              "  'environment_gpu_label': 'prod',\n",
              "  'root_attribution': 'automl',\n",
              "  'attribution': 'AutoML',\n",
              "  'Orchestrator': 'AutoML',\n",
              "  'CancelUri': 'https://centralus.api.azureml.ms/jasmine/v1.0/subscriptions/8dd92a15-7a35-444a-99e8-7e44a3d0ae52/resourceGroups/azure-ml/providers/Microsoft.MachineLearningServices/workspaces/new_wrokspace/experimentids/6aeb6070-6706-404d-bfb4-9961819a044c/cancel/AutoML_dae9b76f-0e0d-40bd-813c-74a06b68c8a8',\n",
              "  'ClientSdkVersion': None,\n",
              "  'snapshotId': '00000000-0000-0000-0000-000000000000',\n",
              "  'SetupRunId': 'AutoML_dae9b76f-0e0d-40bd-813c-74a06b68c8a8_setup',\n",
              "  'SetupRunContainerId': 'dcid.AutoML_dae9b76f-0e0d-40bd-813c-74a06b68c8a8_setup',\n",
              "  'FeaturizationRunJsonPath': 'featurizer_container.json',\n",
              "  'FeaturizationRunId': 'AutoML_dae9b76f-0e0d-40bd-813c-74a06b68c8a8_featurize',\n",
              "  'ProblemInfoJsonString': '{\"dataset_num_categorical\": 0, \"is_sparse\": true, \"subsampling\": false, \"has_extra_col\": true, \"dataset_classes\": 2, \"dataset_features\": 2075, \"dataset_samples\": 7000, \"single_frequency_class_detected\": false}',\n",
              "  'ModelExplainRunId': 'AutoML_dae9b76f-0e0d-40bd-813c-74a06b68c8a8_ModelExplain'},\n",
              " 'inputDatasets': [{'dataset': {'id': '23f4c02f-90a5-4f21-9470-ed8583e97e60'}, 'consumptionDetails': {'type': 'RunInput', 'inputName': 'training_data', 'mechanism': 'Direct'}}],\n",
              " 'outputDatasets': [],\n",
              " 'logFiles': {},\n",
              " 'submittedBy': 'francisco jose ocampo giraldo'}"
            ]
          },
          "metadata": {},
          "execution_count": 8
        }
      ]
    },
    {
      "cell_type": "markdown",
      "source": [
        "# Step 6 - Getting the best model"
      ],
      "metadata": {
        "id": "_FAdVkz9_l_B"
      }
    },
    {
      "cell_type": "code",
      "source": [
        "new_run.get_best_child(metric='accuracy')"
      ],
      "metadata": {
        "colab": {
          "base_uri": "https://localhost:8080/",
          "height": 79
        },
        "id": "jXERCxZX829u",
        "outputId": "6b038e35-f9b3-4dd4-db46-a2ee72d14c8d"
      },
      "execution_count": 9,
      "outputs": [
        {
          "output_type": "execute_result",
          "data": {
            "text/plain": [
              "Run(Experiment: automl-experiment-sdk,\n",
              "Id: AutoML_dae9b76f-0e0d-40bd-813c-74a06b68c8a8_8,\n",
              "Type: azureml.scriptrun,\n",
              "Status: Completed)"
            ],
            "text/html": [
              "<table style=\"width:100%\"><tr><th>Experiment</th><th>Id</th><th>Type</th><th>Status</th><th>Details Page</th><th>Docs Page</th></tr><tr><td>automl-experiment-sdk</td><td>AutoML_dae9b76f-0e0d-40bd-813c-74a06b68c8a8_8</td><td>azureml.scriptrun</td><td>Completed</td><td><a href=\"https://ml.azure.com/runs/AutoML_dae9b76f-0e0d-40bd-813c-74a06b68c8a8_8?wsid=/subscriptions/8dd92a15-7a35-444a-99e8-7e44a3d0ae52/resourcegroups/azure-ml/workspaces/new_wrokspace&amp;tid=20d3fbd0-4c6d-4dbc-b91c-aa00b337238c\" target=\"_blank\" rel=\"noopener\">Link to Azure Machine Learning studio</a></td><td><a href=\"https://docs.microsoft.com/en-us/python/api/azureml-core/azureml.core.run.Run?view=azure-ml-py\" target=\"_blank\" rel=\"noopener\">Link to Documentation</a></td></tr></table>"
            ]
          },
          "metadata": {},
          "execution_count": 9
        }
      ]
    },
    {
      "cell_type": "markdown",
      "source": [
        "# Step 7 - Getting the metrics for all the runs"
      ],
      "metadata": {
        "id": "AbAsU-8v_2CH"
      }
    },
    {
      "cell_type": "code",
      "source": [
        "# Get the metrics for all the runs\n",
        "for run in new_run.get_children():\n",
        "    print(\"\")\n",
        "    print(\"Run ID : \", run.id)\n",
        "    print(run.get_metrics('accuracy'))"
      ],
      "metadata": {
        "colab": {
          "base_uri": "https://localhost:8080/"
        },
        "id": "vdbVwv1S_wGv",
        "outputId": "420c6e72-db12-420e-a5b4-d692a97a1162"
      },
      "execution_count": 10,
      "outputs": [
        {
          "output_type": "stream",
          "name": "stdout",
          "text": [
            "\n",
            "Run ID :  AutoML_dae9b76f-0e0d-40bd-813c-74a06b68c8a8_9\n",
            "{'accuracy': 0.8633333333333333}\n",
            "\n",
            "Run ID :  AutoML_dae9b76f-0e0d-40bd-813c-74a06b68c8a8_8\n",
            "{'accuracy': 0.8673333333333333}\n",
            "\n",
            "Run ID :  AutoML_dae9b76f-0e0d-40bd-813c-74a06b68c8a8_7\n",
            "{'accuracy': 0.832}\n",
            "\n",
            "Run ID :  AutoML_dae9b76f-0e0d-40bd-813c-74a06b68c8a8_6\n",
            "{'accuracy': 0.8466666666666667}\n",
            "\n",
            "Run ID :  AutoML_dae9b76f-0e0d-40bd-813c-74a06b68c8a8_5\n",
            "{'accuracy': 0.7986666666666666}\n",
            "\n",
            "Run ID :  AutoML_dae9b76f-0e0d-40bd-813c-74a06b68c8a8_4\n",
            "{'accuracy': 0.865}\n",
            "\n",
            "Run ID :  AutoML_dae9b76f-0e0d-40bd-813c-74a06b68c8a8_worker_1\n",
            "{}\n",
            "\n",
            "Run ID :  AutoML_dae9b76f-0e0d-40bd-813c-74a06b68c8a8_3\n",
            "{'accuracy': 0.8633333333333333}\n",
            "\n",
            "Run ID :  AutoML_dae9b76f-0e0d-40bd-813c-74a06b68c8a8_2\n",
            "{'accuracy': 0.703}\n",
            "\n",
            "Run ID :  AutoML_dae9b76f-0e0d-40bd-813c-74a06b68c8a8_1\n",
            "{'accuracy': 0.8573333333333333}\n",
            "\n",
            "Run ID :  AutoML_dae9b76f-0e0d-40bd-813c-74a06b68c8a8_0\n",
            "{'accuracy': 0.8626666666666667}\n",
            "\n",
            "Run ID :  AutoML_dae9b76f-0e0d-40bd-813c-74a06b68c8a8_worker_0\n",
            "{}\n",
            "\n",
            "Run ID :  AutoML_dae9b76f-0e0d-40bd-813c-74a06b68c8a8_featurize\n",
            "{}\n",
            "\n",
            "Run ID :  AutoML_dae9b76f-0e0d-40bd-813c-74a06b68c8a8_setup\n",
            "{}\n"
          ]
        }
      ]
    },
    {
      "cell_type": "code",
      "source": [],
      "metadata": {
        "id": "_tk7sK3zAOcQ"
      },
      "execution_count": 10,
      "outputs": []
    }
  ],
  "metadata": {
    "colab": {
      "provenance": [],
      "include_colab_link": true
    },
    "kernelspec": {
      "display_name": "Python 3",
      "name": "python3"
    }
  },
  "nbformat": 4,
  "nbformat_minor": 0
}