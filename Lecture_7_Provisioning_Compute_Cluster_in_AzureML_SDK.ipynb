{
  "nbformat": 4,
  "nbformat_minor": 0,
  "metadata": {
    "colab": {
      "provenance": [],
      "toc_visible": true,
      "include_colab_link": true
    },
    "kernelspec": {
      "name": "python3",
      "display_name": "Python 3"
    }
  },
  "cells": [
    {
      "cell_type": "markdown",
      "metadata": {
        "id": "view-in-github",
        "colab_type": "text"
      },
      "source": [
        "<a href=\"https://colab.research.google.com/github/FranciscoOcampoPredictiva/azureml_course/blob/main/Lecture_7_Provisioning_Compute_Cluster_in_AzureML_SDK.ipynb\" target=\"_parent\"><img src=\"https://colab.research.google.com/assets/colab-badge.svg\" alt=\"Open In Colab\"/></a>"
      ]
    },
    {
      "cell_type": "markdown",
      "metadata": {
        "id": "IvsItXVXlpMP"
      },
      "source": [
        "# 1) Installation and Setup"
      ]
    },
    {
      "cell_type": "code",
      "source": [
        "# Install azureml SDK package\n",
        "! pip install -q azureml-sdk"
      ],
      "metadata": {
        "id": "4ZXJt_2_-b2b"
      },
      "execution_count": null,
      "outputs": []
    },
    {
      "cell_type": "code",
      "source": [
        "# Importing the class\n",
        "from azureml.core import Workspace"
      ],
      "metadata": {
        "id": "r0cpoYUx-csx"
      },
      "execution_count": null,
      "outputs": []
    },
    {
      "cell_type": "code",
      "source": [
        "# Access the workspace from config file and creating a workspace object\n",
        "ws = Workspace.from_config(path='/content/config.json')"
      ],
      "metadata": {
        "id": "sJEq_phy-cvP"
      },
      "execution_count": null,
      "outputs": []
    },
    {
      "cell_type": "markdown",
      "source": [
        "# 2) Provisioning a compute cluster"
      ],
      "metadata": {
        "id": "XwjgN53jtzXa"
      }
    },
    {
      "cell_type": "code",
      "source": [
        "# Specify the name of the compute cluster\n",
        "cluster_name = 'Cluster-01'"
      ],
      "metadata": {
        "id": "p6iTfvYrtN2m"
      },
      "execution_count": null,
      "outputs": []
    },
    {
      "cell_type": "code",
      "source": [
        "# Import the class\n",
        "from azureml.core.compute import AmlCompute"
      ],
      "metadata": {
        "id": "YxcfcBj4uaeT"
      },
      "execution_count": null,
      "outputs": []
    },
    {
      "cell_type": "code",
      "source": [
        "# help(AmlCompute)"
      ],
      "metadata": {
        "id": "KvTDD5Rquaj8"
      },
      "execution_count": null,
      "outputs": []
    },
    {
      "cell_type": "code",
      "source": [
        "# Compute cluster configuration\n",
        "compute_config = AmlCompute.provisioning_configuration(vm_size='STANDARD_D11_V2',\n",
        "                                                       max_nodes=2)"
      ],
      "metadata": {
        "id": "yO4jXl62u5Tg"
      },
      "execution_count": null,
      "outputs": []
    },
    {
      "cell_type": "code",
      "source": [
        "# Create the cluster\n",
        "cluster = AmlCompute.create(workspace=ws, name=cluster_name, provisioning_configuration=compute_config)"
      ],
      "metadata": {
        "id": "710VJVYYu5YL"
      },
      "execution_count": null,
      "outputs": []
    },
    {
      "cell_type": "code",
      "source": [],
      "metadata": {
        "id": "hk0Hxk1lvhlL"
      },
      "execution_count": null,
      "outputs": []
    }
  ]
}